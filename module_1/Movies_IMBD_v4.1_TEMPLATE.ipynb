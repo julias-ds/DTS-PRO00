{
 "cells": [
  {
   "cell_type": "code",
   "execution_count": 4,
   "metadata": {
    "_cell_guid": "b1076dfc-b9ad-4769-8c92-a6c4dae69d19",
    "_uuid": "8f2839f25d086af736a60e9eeb907d3b93b6e0e5",
    "colab": {},
    "colab_type": "code",
    "id": "U2D2gTdJVp90"
   },
   "outputs": [],
   "source": [
    "import numpy as np\n",
    "import pandas as pd\n",
    "import seaborn as sns\n",
    "import matplotlib.pyplot as plt\n",
    "from collections import Counter"
   ]
  },
  {
   "cell_type": "code",
   "execution_count": 5,
   "metadata": {
    "_cell_guid": "79c7e3d0-c299-4dcb-8224-4455121ee9b0",
    "_uuid": "d629ff2d2480ee46fbb7e2d37f6b5fab8052498a",
    "colab": {},
    "colab_type": "code",
    "id": "oyGfxL3eVp9-",
    "scrolled": true
   },
   "outputs": [
    {
     "data": {
      "text/html": [
       "<div>\n",
       "<style scoped>\n",
       "    .dataframe tbody tr th:only-of-type {\n",
       "        vertical-align: middle;\n",
       "    }\n",
       "\n",
       "    .dataframe tbody tr th {\n",
       "        vertical-align: top;\n",
       "    }\n",
       "\n",
       "    .dataframe thead th {\n",
       "        text-align: right;\n",
       "    }\n",
       "</style>\n",
       "<table border=\"1\" class=\"dataframe\">\n",
       "  <thead>\n",
       "    <tr style=\"text-align: right;\">\n",
       "      <th></th>\n",
       "      <th>imdb_id</th>\n",
       "      <th>budget</th>\n",
       "      <th>revenue</th>\n",
       "      <th>original_title</th>\n",
       "      <th>cast</th>\n",
       "      <th>director</th>\n",
       "      <th>tagline</th>\n",
       "      <th>overview</th>\n",
       "      <th>runtime</th>\n",
       "      <th>genres</th>\n",
       "      <th>production_companies</th>\n",
       "      <th>release_date</th>\n",
       "      <th>vote_average</th>\n",
       "      <th>release_year</th>\n",
       "    </tr>\n",
       "  </thead>\n",
       "  <tbody>\n",
       "    <tr>\n",
       "      <th>1775</th>\n",
       "      <td>tt0760329</td>\n",
       "      <td>45000000</td>\n",
       "      <td>103071443</td>\n",
       "      <td>The Water Horse</td>\n",
       "      <td>Alexander Nathan Etel|Emily Watson|Ben Chaplin...</td>\n",
       "      <td>Jay Russell</td>\n",
       "      <td>How Do You Keep A Secret This Big?</td>\n",
       "      <td>A lonely boy discovers a mysterious egg that h...</td>\n",
       "      <td>112</td>\n",
       "      <td>Fantasy|Adventure|Family</td>\n",
       "      <td>Revolution Studios|Ecosse Films|Beacon Picture...</td>\n",
       "      <td>12/25/2007</td>\n",
       "      <td>6.2</td>\n",
       "      <td>2007</td>\n",
       "    </tr>\n",
       "    <tr>\n",
       "      <th>1642</th>\n",
       "      <td>tt0360201</td>\n",
       "      <td>31000000</td>\n",
       "      <td>41512007</td>\n",
       "      <td>Wimbledon</td>\n",
       "      <td>Kirsten Dunst|Paul Bettany|Sam Neill|James McA...</td>\n",
       "      <td>Richard Loncraine</td>\n",
       "      <td>She's the golden girl. He's the longshot. It's...</td>\n",
       "      <td>A pro tennis player has lost his ambition and ...</td>\n",
       "      <td>98</td>\n",
       "      <td>Comedy|Romance</td>\n",
       "      <td>Universal Pictures</td>\n",
       "      <td>9/13/2004</td>\n",
       "      <td>5.7</td>\n",
       "      <td>2004</td>\n",
       "    </tr>\n",
       "    <tr>\n",
       "      <th>1725</th>\n",
       "      <td>tt0486583</td>\n",
       "      <td>100000000</td>\n",
       "      <td>97838349</td>\n",
       "      <td>Fred Claus</td>\n",
       "      <td>Vince Vaughn|Paul Giamatti|John Michael Higgin...</td>\n",
       "      <td>David Dobkin</td>\n",
       "      <td>Everybody has that one relative who can't help...</td>\n",
       "      <td>Fred Claus (Vince Vaughn) and Santa Claus (Pau...</td>\n",
       "      <td>116</td>\n",
       "      <td>Action|Comedy|Drama</td>\n",
       "      <td>Silver Pictures|Warner Bros.|Jessie Nelson Pro...</td>\n",
       "      <td>11/3/2007</td>\n",
       "      <td>5.5</td>\n",
       "      <td>2007</td>\n",
       "    </tr>\n",
       "    <tr>\n",
       "      <th>582</th>\n",
       "      <td>tt0250224</td>\n",
       "      <td>13000000</td>\n",
       "      <td>16929123</td>\n",
       "      <td>Crazy/Beautiful</td>\n",
       "      <td>Kirsten Dunst|Jay Hernandez|Bruce Davison|Herm...</td>\n",
       "      <td>John Stockwell</td>\n",
       "      <td>When it's real. When it's right. Don't let any...</td>\n",
       "      <td>At Pacific Palisades High, a poor Latino falls...</td>\n",
       "      <td>99</td>\n",
       "      <td>Drama|Romance</td>\n",
       "      <td>Touchstone Pictures|Ufland</td>\n",
       "      <td>6/29/2001</td>\n",
       "      <td>6.6</td>\n",
       "      <td>2001</td>\n",
       "    </tr>\n",
       "    <tr>\n",
       "      <th>823</th>\n",
       "      <td>tt1637706</td>\n",
       "      <td>10000000</td>\n",
       "      <td>17273593</td>\n",
       "      <td>Our Idiot Brother</td>\n",
       "      <td>Paul Rudd|Elizabeth Banks|Zooey Deschanel|Emil...</td>\n",
       "      <td>Jesse Peretz</td>\n",
       "      <td>Everybody has one.</td>\n",
       "      <td>Everybody has one. The sibling who is always j...</td>\n",
       "      <td>90</td>\n",
       "      <td>Comedy|Drama</td>\n",
       "      <td>The Weinstein Company</td>\n",
       "      <td>8/26/2011</td>\n",
       "      <td>5.7</td>\n",
       "      <td>2011</td>\n",
       "    </tr>\n",
       "  </tbody>\n",
       "</table>\n",
       "</div>"
      ],
      "text/plain": [
       "        imdb_id     budget    revenue     original_title  \\\n",
       "1775  tt0760329   45000000  103071443    The Water Horse   \n",
       "1642  tt0360201   31000000   41512007          Wimbledon   \n",
       "1725  tt0486583  100000000   97838349         Fred Claus   \n",
       "582   tt0250224   13000000   16929123    Crazy/Beautiful   \n",
       "823   tt1637706   10000000   17273593  Our Idiot Brother   \n",
       "\n",
       "                                                   cast           director  \\\n",
       "1775  Alexander Nathan Etel|Emily Watson|Ben Chaplin...        Jay Russell   \n",
       "1642  Kirsten Dunst|Paul Bettany|Sam Neill|James McA...  Richard Loncraine   \n",
       "1725  Vince Vaughn|Paul Giamatti|John Michael Higgin...       David Dobkin   \n",
       "582   Kirsten Dunst|Jay Hernandez|Bruce Davison|Herm...     John Stockwell   \n",
       "823   Paul Rudd|Elizabeth Banks|Zooey Deschanel|Emil...       Jesse Peretz   \n",
       "\n",
       "                                                tagline  \\\n",
       "1775                 How Do You Keep A Secret This Big?   \n",
       "1642  She's the golden girl. He's the longshot. It's...   \n",
       "1725  Everybody has that one relative who can't help...   \n",
       "582   When it's real. When it's right. Don't let any...   \n",
       "823                                  Everybody has one.   \n",
       "\n",
       "                                               overview  runtime  \\\n",
       "1775  A lonely boy discovers a mysterious egg that h...      112   \n",
       "1642  A pro tennis player has lost his ambition and ...       98   \n",
       "1725  Fred Claus (Vince Vaughn) and Santa Claus (Pau...      116   \n",
       "582   At Pacific Palisades High, a poor Latino falls...       99   \n",
       "823   Everybody has one. The sibling who is always j...       90   \n",
       "\n",
       "                        genres  \\\n",
       "1775  Fantasy|Adventure|Family   \n",
       "1642            Comedy|Romance   \n",
       "1725       Action|Comedy|Drama   \n",
       "582              Drama|Romance   \n",
       "823               Comedy|Drama   \n",
       "\n",
       "                                   production_companies release_date  \\\n",
       "1775  Revolution Studios|Ecosse Films|Beacon Picture...   12/25/2007   \n",
       "1642                                 Universal Pictures    9/13/2004   \n",
       "1725  Silver Pictures|Warner Bros.|Jessie Nelson Pro...    11/3/2007   \n",
       "582                          Touchstone Pictures|Ufland    6/29/2001   \n",
       "823                               The Weinstein Company    8/26/2011   \n",
       "\n",
       "      vote_average  release_year  \n",
       "1775           6.2          2007  \n",
       "1642           5.7          2004  \n",
       "1725           5.5          2007  \n",
       "582            6.6          2001  \n",
       "823            5.7          2011  "
      ]
     },
     "execution_count": 5,
     "metadata": {},
     "output_type": "execute_result"
    }
   ],
   "source": [
    "data = pd.read_csv('movie_bd_v5.xls')\n",
    "data.sample(5)"
   ]
  },
  {
   "cell_type": "code",
   "execution_count": 6,
   "metadata": {
    "colab": {},
    "colab_type": "code",
    "id": "CoYUnagMVp-C"
   },
   "outputs": [
    {
     "data": {
      "text/html": [
       "<div>\n",
       "<style scoped>\n",
       "    .dataframe tbody tr th:only-of-type {\n",
       "        vertical-align: middle;\n",
       "    }\n",
       "\n",
       "    .dataframe tbody tr th {\n",
       "        vertical-align: top;\n",
       "    }\n",
       "\n",
       "    .dataframe thead th {\n",
       "        text-align: right;\n",
       "    }\n",
       "</style>\n",
       "<table border=\"1\" class=\"dataframe\">\n",
       "  <thead>\n",
       "    <tr style=\"text-align: right;\">\n",
       "      <th></th>\n",
       "      <th>budget</th>\n",
       "      <th>revenue</th>\n",
       "      <th>runtime</th>\n",
       "      <th>vote_average</th>\n",
       "      <th>release_year</th>\n",
       "    </tr>\n",
       "  </thead>\n",
       "  <tbody>\n",
       "    <tr>\n",
       "      <th>count</th>\n",
       "      <td>1.889000e+03</td>\n",
       "      <td>1.889000e+03</td>\n",
       "      <td>1889.000000</td>\n",
       "      <td>1889.000000</td>\n",
       "      <td>1889.000000</td>\n",
       "    </tr>\n",
       "    <tr>\n",
       "      <th>mean</th>\n",
       "      <td>5.431083e+07</td>\n",
       "      <td>1.553653e+08</td>\n",
       "      <td>109.658549</td>\n",
       "      <td>6.140762</td>\n",
       "      <td>2007.860773</td>\n",
       "    </tr>\n",
       "    <tr>\n",
       "      <th>std</th>\n",
       "      <td>4.858721e+07</td>\n",
       "      <td>2.146698e+08</td>\n",
       "      <td>18.017041</td>\n",
       "      <td>0.764763</td>\n",
       "      <td>4.468841</td>\n",
       "    </tr>\n",
       "    <tr>\n",
       "      <th>min</th>\n",
       "      <td>5.000000e+06</td>\n",
       "      <td>2.033165e+06</td>\n",
       "      <td>63.000000</td>\n",
       "      <td>3.300000</td>\n",
       "      <td>2000.000000</td>\n",
       "    </tr>\n",
       "    <tr>\n",
       "      <th>25%</th>\n",
       "      <td>2.000000e+07</td>\n",
       "      <td>3.456058e+07</td>\n",
       "      <td>97.000000</td>\n",
       "      <td>5.600000</td>\n",
       "      <td>2004.000000</td>\n",
       "    </tr>\n",
       "    <tr>\n",
       "      <th>50%</th>\n",
       "      <td>3.800000e+07</td>\n",
       "      <td>8.361541e+07</td>\n",
       "      <td>107.000000</td>\n",
       "      <td>6.100000</td>\n",
       "      <td>2008.000000</td>\n",
       "    </tr>\n",
       "    <tr>\n",
       "      <th>75%</th>\n",
       "      <td>7.200000e+07</td>\n",
       "      <td>1.782626e+08</td>\n",
       "      <td>120.000000</td>\n",
       "      <td>6.600000</td>\n",
       "      <td>2012.000000</td>\n",
       "    </tr>\n",
       "    <tr>\n",
       "      <th>max</th>\n",
       "      <td>3.800000e+08</td>\n",
       "      <td>2.781506e+09</td>\n",
       "      <td>214.000000</td>\n",
       "      <td>8.100000</td>\n",
       "      <td>2015.000000</td>\n",
       "    </tr>\n",
       "  </tbody>\n",
       "</table>\n",
       "</div>"
      ],
      "text/plain": [
       "             budget       revenue      runtime  vote_average  release_year\n",
       "count  1.889000e+03  1.889000e+03  1889.000000   1889.000000   1889.000000\n",
       "mean   5.431083e+07  1.553653e+08   109.658549      6.140762   2007.860773\n",
       "std    4.858721e+07  2.146698e+08    18.017041      0.764763      4.468841\n",
       "min    5.000000e+06  2.033165e+06    63.000000      3.300000   2000.000000\n",
       "25%    2.000000e+07  3.456058e+07    97.000000      5.600000   2004.000000\n",
       "50%    3.800000e+07  8.361541e+07   107.000000      6.100000   2008.000000\n",
       "75%    7.200000e+07  1.782626e+08   120.000000      6.600000   2012.000000\n",
       "max    3.800000e+08  2.781506e+09   214.000000      8.100000   2015.000000"
      ]
     },
     "execution_count": 6,
     "metadata": {},
     "output_type": "execute_result"
    }
   ],
   "source": [
    "data.describe()"
   ]
  },
  {
   "cell_type": "markdown",
   "metadata": {
    "colab_type": "text",
    "id": "DTIt7ezGVp-G"
   },
   "source": [
    "# Предобработка"
   ]
  },
  {
   "cell_type": "code",
   "execution_count": 66,
   "metadata": {
    "colab": {},
    "colab_type": "code",
    "id": "jNb40DwKVp-H"
   },
   "outputs": [],
   "source": [
    "answers = {} # создадим словарь для ответов\n",
    "\n",
    "# тут другие ваши предобработки колонок например:\n",
    "\n",
    "# Add new column profit calculated as difference between revenue and budget of the film\n",
    "data = data.assign(profit = data.revenue - data.budget)\n",
    "\n",
    "#Add new column for title length\n",
    "data['title_length'] = data.apply(lambda row: len(str(row['original_title'])), axis=1)\n",
    "\n",
    "#add new column for description words count\n",
    "data['desc_len'] = data.apply(lambda row: len(str(row['overview']).split()), axis=1)\n",
    "\n",
    "#the time given in the dataset is in string format.\n",
    "#So we need to change this in datetime format\n",
    "# ...\n",
    "\n",
    "\n",
    "\n",
    "#Function to split sting with many objects (e.g. actors, genres) and return them as a list of strings\n",
    "def split_string_to_list(str):\n",
    "    return str.split(\"|\")\n",
    "\n",
    "#Function to form dictionary of items (e.g genres, actors) and their frequency\n",
    "# Argument dictionary is a dictionary where all items are stored\n",
    "# Argument list_of_items is a list of strings containing genres info of a particular movie\n",
    "\n",
    "def add_item_dictionary(dictionary, list_of_items):\n",
    "    \n",
    "    #iteratively checking all item strings in the list\n",
    "    for item in list_of_items:\n",
    "        if not dictionary.get(item): \n",
    "            #if item is not yet in the dictionary, adding it and setting count to 1\n",
    "            dictionary[item] = 1\n",
    "        else:\n",
    "            #if item is in the dictionary, increasing the count\n",
    "            dictionary[item] += 1 \n",
    "    return\n",
    "\n",
    "def add_single_item_dictionary(dictionary, item):\n",
    "    \n",
    "    #iteratively checking all item strings in the list\n",
    "    if not dictionary.get(item): \n",
    "        #if item is not yet in the dictionary, adding it and setting count to 1\n",
    "        dictionary[item] = 1\n",
    "    else:\n",
    "        #if item is in the dictionary, increasing the count\n",
    "        dictionary[item] += 1 \n",
    "    return\n",
    "\n",
    "\n",
    "#create list of items (e.g. genres, actors) and their movie cumulative profit\n",
    "def add_item_profit_dictionary(dictionary, list_of_str, profit):\n",
    "    \n",
    "    #iteratively checking all genres strings in the list\n",
    "    for str_item in list_of_str:\n",
    "        if not dictionary.get(str_item): \n",
    "            #if genre is not yet in the dictionary, adding it and setting profit to profit\n",
    "            dictionary[str_item] = profit\n",
    "        else:\n",
    "            #if genre is in the dictionary, summing up profits\n",
    "            dictionary[str_item] += profit \n",
    "    return\n",
    "\n",
    "#define function to split date into list of day, month and year\n",
    "def split_release_date(date):\n",
    "    return date.split(\"/\")\n",
    "\n",
    "def search_max_dict(dictionary):\n",
    " \n",
    "   # Find item with Max Value in Dictionary\n",
    "    itemMaxValue = max(dictionary.items(), key=lambda x: x[1])\n",
    "    listOfKeys = []\n",
    "    # Iterate over all the items in dictionary to find keys with max value\n",
    "    for key, value in dictionary.items():\n",
    "        if value == itemMaxValue[1]:\n",
    "            listOfKeys.append(key)\n",
    "   \n",
    "    return listOfKeys\n",
    "\n",
    "def add_actor_pair_dictionary(dictionary, list_of_str):\n",
    "    for x in range(len(list_of_str)-1):\n",
    "        y=x+1\n",
    "        while y<len(list_of_str)-1:\n",
    "            tuple1 = (list_of_str[x],list_of_str[y])\n",
    "            tuple2 = (list_of_str[y],list_of_str[x])\n",
    "            if dictionary.get(tuple1, 0) != 0:\n",
    "                dictionary[tuple1] += 1\n",
    "            elif dictionary.get(tuple2, 0) != 0:\n",
    "                dictionary[tuple2] += 1\n",
    "            else:\n",
    "                dictionary[tuple1] = 1\n",
    "            y+=1\n",
    "    return \n"
   ]
  },
  {
   "cell_type": "markdown",
   "metadata": {
    "colab_type": "text",
    "id": "YxZaH-nPVp-L"
   },
   "source": [
    "# 1. У какого фильма из списка самый большой бюджет?"
   ]
  },
  {
   "cell_type": "markdown",
   "metadata": {
    "colab_type": "text",
    "id": "Nd-G5gX6Vp-M"
   },
   "source": [
    "Использовать варианты ответов в коде решения запрещено.    \n",
    "Вы думаете и в жизни у вас будут варианты ответов?)"
   ]
  },
  {
   "cell_type": "code",
   "execution_count": 18,
   "metadata": {
    "colab": {},
    "colab_type": "code",
    "id": "uVnXAY5RVp-O"
   },
   "outputs": [],
   "source": [
    "# в словарь вставляем номер вопроса и ваш ответ на него\n",
    "\n",
    "answers['1'] = 'Pirates of the Caribbean: On Stranger Tides'\n",
    "# если ответили верно, можете добавить комментарий со значком \"+\"\n",
    "# +"
   ]
  },
  {
   "cell_type": "code",
   "execution_count": 14,
   "metadata": {
    "colab": {},
    "colab_type": "code",
    "id": "dZwb3m28Vp-S"
   },
   "outputs": [
    {
     "data": {
      "text/plain": [
       "723    Pirates of the Caribbean: On Stranger Tides\n",
       "Name: original_title, dtype: object"
      ]
     },
     "execution_count": 14,
     "metadata": {},
     "output_type": "execute_result"
    }
   ],
   "source": [
    "data[data.budget == data.budget.max()].original_title"
   ]
  },
  {
   "cell_type": "code",
   "execution_count": 15,
   "metadata": {
    "colab_type": "text",
    "id": "K7L3nbRXVp-X"
   },
   "outputs": [
    {
     "data": {
      "text/plain": [
       "723    Pirates of the Caribbean: On Stranger Tides\n",
       "Name: original_title, dtype: object"
      ]
     },
     "execution_count": 15,
     "metadata": {},
     "output_type": "execute_result"
    }
   ],
   "source": [
    "#ВАРИАНТ 2\n",
    "data.sort_values(['budget'],ascending=False).original_title.head(1)"
   ]
  },
  {
   "cell_type": "code",
   "execution_count": null,
   "metadata": {
    "colab": {},
    "colab_type": "code",
    "id": "OGaoQI7rVp-X"
   },
   "outputs": [],
   "source": []
  },
  {
   "cell_type": "markdown",
   "metadata": {
    "colab_type": "text",
    "id": "FNRbbI3vVp-c"
   },
   "source": [
    "# 2. Какой из фильмов самый длительный (в минутах)?"
   ]
  },
  {
   "cell_type": "code",
   "execution_count": 67,
   "metadata": {
    "colab": {},
    "colab_type": "code",
    "id": "vHAoEXNTVp-d"
   },
   "outputs": [],
   "source": [
    "# думаю логику работы с этим словарем вы уже поняли, \n",
    "# по этому не буду больше его дублировать\n",
    "answers['1'] = 'Pirates of the Caribbean: On Stranger Tides'# +\n",
    "answers['2'] = 'Gods and Generals'# +\n",
    "answers['3'] = 'Winnie the Pooh'# +\n",
    "answers['4'] = 109.6585494970884# +\n",
    "answers['5'] = 107.0 # +\n",
    "answers['6'] = 'Avatar'# +\n",
    "answers['7'] = 'The Lone Ranger'# +\n",
    "answers['8'] = 1478# +\n",
    "answers['9'] = 'The Dark Knight'# +\n",
    "answers['10'] = 'Mars Needs Moms'# +\n",
    "answers['11'] = 'Drama'# +\n",
    "answers['12'] = 'Drama'# +\n",
    "answers['13'] = 'Peter Jackson'# +\n",
    "answers['14'] = 'Robert Rodriguez'# +\n",
    "answers['15'] = 'Chris Hemsworth'# +\n",
    "answers['16'] = 'Matt Damon'# +\n",
    "answers['17'] = 'Action'# +\n",
    "answers['18'] = 'K-19: The Widowmaker'# +\n",
    "answers['19'] = 2015# +\n",
    "answers['20'] = 2014# +\n",
    "answers['21'] = 'September'# +\n",
    "answers['22'] = 450# +\n",
    "answers['23'] = 'Peter Jackson'# +\n",
    "answers['24'] = 'Four By Two Productions'# +\n",
    "answers['25'] = 'Midnight Picture Show'# +\n",
    "answers['26'] = ('Inside Out',\n",
    " 'The Dark Knight',\n",
    " '12 Years a Slave')# +\n",
    "answers['27'] = ('Daniel Radcliffe','Rupert Grint')# +"
   ]
  },
  {
   "cell_type": "code",
   "execution_count": 17,
   "metadata": {
    "colab": {},
    "colab_type": "code",
    "id": "ot-VX2XrVp-g"
   },
   "outputs": [
    {
     "data": {
      "text/plain": [
       "1157    Gods and Generals\n",
       "Name: original_title, dtype: object"
      ]
     },
     "execution_count": 17,
     "metadata": {},
     "output_type": "execute_result"
    }
   ],
   "source": [
    "data[data.runtime == data.runtime.max()].original_title"
   ]
  },
  {
   "cell_type": "markdown",
   "metadata": {
    "colab_type": "text",
    "id": "bapLlpW8Vp-k"
   },
   "source": [
    "# 3. Какой из фильмов самый короткий (в минутах)?\n",
    "\n",
    "\n",
    "\n"
   ]
  },
  {
   "cell_type": "code",
   "execution_count": 18,
   "metadata": {
    "colab": {},
    "colab_type": "code",
    "id": "YBxaSHuAVp-l"
   },
   "outputs": [
    {
     "data": {
      "text/plain": [
       "768    Winnie the Pooh\n",
       "Name: original_title, dtype: object"
      ]
     },
     "execution_count": 18,
     "metadata": {},
     "output_type": "execute_result"
    }
   ],
   "source": [
    "data[data.runtime == data.runtime.min()].original_title"
   ]
  },
  {
   "cell_type": "markdown",
   "metadata": {
    "colab_type": "text",
    "id": "TfQbxbfNVp-p"
   },
   "source": [
    "# 4. Какова средняя длительность фильмов?\n"
   ]
  },
  {
   "cell_type": "code",
   "execution_count": 19,
   "metadata": {
    "colab": {},
    "colab_type": "code",
    "id": "5K6dKZYVVp-q"
   },
   "outputs": [
    {
     "data": {
      "text/plain": [
       "109.6585494970884"
      ]
     },
     "execution_count": 19,
     "metadata": {},
     "output_type": "execute_result"
    }
   ],
   "source": [
    "data.runtime.mean()"
   ]
  },
  {
   "cell_type": "markdown",
   "metadata": {
    "colab_type": "text",
    "id": "r5TvbnT_Vp-u"
   },
   "source": [
    "# 5. Каково медианное значение длительности фильмов? "
   ]
  },
  {
   "cell_type": "code",
   "execution_count": 24,
   "metadata": {
    "colab": {},
    "colab_type": "code",
    "id": "iBROplKnVp-v"
   },
   "outputs": [
    {
     "data": {
      "text/plain": [
       "107.0"
      ]
     },
     "execution_count": 24,
     "metadata": {},
     "output_type": "execute_result"
    }
   ],
   "source": [
    "data.runtime.median()"
   ]
  },
  {
   "cell_type": "markdown",
   "metadata": {
    "colab_type": "text",
    "id": "39P-deDSVp-y"
   },
   "source": [
    "# 6. Какой самый прибыльный фильм?\n",
    "#### Внимание! Здесь и далее под «прибылью» или «убытками» понимается разность между сборами и бюджетом фильма. (прибыль = сборы - бюджет) в нашем датасете это будет (profit = revenue - budget) "
   ]
  },
  {
   "cell_type": "code",
   "execution_count": 118,
   "metadata": {
    "colab": {},
    "colab_type": "code",
    "id": "UYZh4T9WVp-y"
   },
   "outputs": [
    {
     "data": {
      "text/plain": [
       "239    Avatar\n",
       "Name: original_title, dtype: object"
      ]
     },
     "execution_count": 118,
     "metadata": {},
     "output_type": "execute_result"
    }
   ],
   "source": [
    "data[data.profit == data.profit.max()].original_title\n"
   ]
  },
  {
   "cell_type": "markdown",
   "metadata": {
    "colab_type": "text",
    "id": "M99JmIX4Vp-2"
   },
   "source": [
    "# 7. Какой фильм самый убыточный? "
   ]
  },
  {
   "cell_type": "code",
   "execution_count": 22,
   "metadata": {
    "colab": {},
    "colab_type": "code",
    "id": "w-D2m4XPVp-3"
   },
   "outputs": [
    {
     "data": {
      "text/plain": [
       "1245    The Lone Ranger\n",
       "Name: original_title, dtype: object"
      ]
     },
     "execution_count": 22,
     "metadata": {},
     "output_type": "execute_result"
    }
   ],
   "source": [
    "data[data.profit == data.profit.min()].original_title"
   ]
  },
  {
   "cell_type": "markdown",
   "metadata": {
    "colab_type": "text",
    "id": "wEOM5ERVVp-6"
   },
   "source": [
    "# 8. У скольких фильмов из датасета объем сборов оказался выше бюджета?"
   ]
  },
  {
   "cell_type": "code",
   "execution_count": 23,
   "metadata": {
    "colab": {},
    "colab_type": "code",
    "id": "y00_7HD6Vp-7"
   },
   "outputs": [
    {
     "data": {
      "text/plain": [
       "1478"
      ]
     },
     "execution_count": 23,
     "metadata": {},
     "output_type": "execute_result"
    }
   ],
   "source": [
    "len(data[data.revenue > data.budget])"
   ]
  },
  {
   "cell_type": "markdown",
   "metadata": {
    "colab_type": "text",
    "id": "xhpspA9KVp_A"
   },
   "source": [
    "# 9. Какой фильм оказался самым кассовым в 2008 году?"
   ]
  },
  {
   "cell_type": "code",
   "execution_count": 24,
   "metadata": {
    "colab": {},
    "colab_type": "code",
    "id": "MoUyQr9RVp_B",
    "scrolled": true
   },
   "outputs": [
    {
     "data": {
      "text/plain": [
       "599    The Dark Knight\n",
       "Name: original_title, dtype: object"
      ]
     },
     "execution_count": 24,
     "metadata": {},
     "output_type": "execute_result"
    }
   ],
   "source": [
    "#data[data.release_year==2008].sort_values(['profit'], ascending = False).original_title.head(1)\n",
    "#\n",
    "grouped_data =data[data.release_year==2008]\n",
    "grouped_data[grouped_data.profit == grouped_data.profit.max()].original_title\n"
   ]
  },
  {
   "cell_type": "markdown",
   "metadata": {
    "colab_type": "text",
    "id": "Zi4hDKidVp_F"
   },
   "source": [
    "# 10. Самый убыточный фильм за период с 2012 по 2014 г. (включительно)?\n"
   ]
  },
  {
   "cell_type": "code",
   "execution_count": 26,
   "metadata": {
    "colab": {},
    "colab_type": "code",
    "id": "XqyRmufJVp_F"
   },
   "outputs": [
    {
     "data": {
      "text/plain": [
       "1245    The Lone Ranger\n",
       "Name: original_title, dtype: object"
      ]
     },
     "execution_count": 26,
     "metadata": {},
     "output_type": "execute_result"
    }
   ],
   "source": [
    "grouped_data= data.query('release_year >= 2012 & release_year <= 2014')\n",
    "grouped_data[grouped_data.profit == grouped_data.profit.min()].original_title"
   ]
  },
  {
   "cell_type": "markdown",
   "metadata": {
    "colab_type": "text",
    "id": "EA7Sa9dkVp_I"
   },
   "source": [
    "# 11. Какого жанра фильмов больше всего?"
   ]
  },
  {
   "cell_type": "code",
   "execution_count": 15,
   "metadata": {
    "colab": {},
    "colab_type": "code",
    "id": "zsJAwJ8QVp_J"
   },
   "outputs": [
    {
     "data": {
      "text/plain": [
       "['Drama']"
      ]
     },
     "execution_count": 15,
     "metadata": {},
     "output_type": "execute_result"
    }
   ],
   "source": [
    "# эту задачу тоже можно решать разными подходами, попробуй реализовать разные варианты\n",
    "# если будешь добавлять функцию - выноси ее в предобработку что в начале\n",
    "\n",
    "#Declare dictionary to store all genres and their frequency\n",
    "genres_storage = {}\n",
    "   \n",
    "#go through all rows of dataset \n",
    "for i in data.index:\n",
    "    #apply functions to genres column: split into list of genres and \n",
    "    #update the dictionary with list of genres\n",
    "    add_item_dictionary(genres_storage,split_string_to_list(data.genres[i]))\n",
    "   \n",
    " #Apply function to our dictionary from previous step\n",
    "search_max_dict(genres_storage)\n",
    "\n",
    "    "
   ]
  },
  {
   "cell_type": "markdown",
   "metadata": {
    "colab_type": "text",
    "id": "Ax6g2C8SVp_M"
   },
   "source": [
    "ВАРИАНТ 2"
   ]
  },
  {
   "cell_type": "code",
   "execution_count": null,
   "metadata": {
    "colab": {},
    "colab_type": "code",
    "id": "otO3SbrSVp_N"
   },
   "outputs": [],
   "source": []
  },
  {
   "cell_type": "markdown",
   "metadata": {
    "colab_type": "text",
    "id": "T9_bPWpkVp_Q"
   },
   "source": [
    "# 12. Фильмы какого жанра чаще всего становятся прибыльными? "
   ]
  },
  {
   "cell_type": "code",
   "execution_count": 36,
   "metadata": {
    "colab": {},
    "colab_type": "code",
    "id": "Tmt8MaK1Vp_R"
   },
   "outputs": [
    {
     "data": {
      "text/plain": [
       "['Drama']"
      ]
     },
     "execution_count": 36,
     "metadata": {},
     "output_type": "execute_result"
    }
   ],
   "source": [
    "#Declare dictionary to store all genres and their cumulative profits\n",
    "genres_storage = {}\n",
    "data_profit = data.query('profit > 0')\n",
    "\n",
    "#go through all rows of dataset \n",
    "for i in data_profit.index:\n",
    "    #apply functions to genres column: split into list of genres and \n",
    "    #update the dictionary with list of genres and  movies count\n",
    "    add_item_dictionary(genres_storage,split_string_to_list(data_profit.genres[i]))\n",
    "   \n",
    "search_max_dict(genres_storage)\n"
   ]
  },
  {
   "cell_type": "markdown",
   "metadata": {
    "colab_type": "text",
    "id": "0F23bgsDVp_U"
   },
   "source": [
    "# 13. У какого режиссера самые большие суммарные кассовые сборы?"
   ]
  },
  {
   "cell_type": "code",
   "execution_count": 38,
   "metadata": {
    "colab": {},
    "colab_type": "code",
    "id": "K6Z3J8ygVp_X"
   },
   "outputs": [
    {
     "data": {
      "text/plain": [
       "director\n",
       "Peter Jackson    6490593685\n",
       "Name: revenue, dtype: int64"
      ]
     },
     "execution_count": 38,
     "metadata": {},
     "output_type": "execute_result"
    }
   ],
   "source": [
    "data.groupby(['director'])['revenue'].sum().sort_values(ascending=False).head(1)"
   ]
  },
  {
   "cell_type": "markdown",
   "metadata": {
    "colab_type": "text",
    "id": "PsYC9FgRVp_a"
   },
   "source": [
    "# 14. Какой режисер снял больше всего фильмов в стиле Action?"
   ]
  },
  {
   "cell_type": "code",
   "execution_count": 28,
   "metadata": {
    "colab": {},
    "colab_type": "code",
    "id": "wd2M-wHeVp_b"
   },
   "outputs": [
    {
     "data": {
      "text/plain": [
       "['Robert Rodriguez']"
      ]
     },
     "execution_count": 28,
     "metadata": {},
     "output_type": "execute_result"
    }
   ],
   "source": [
    "#data[data.genres.str.contains('Action',na=False)].groupby(['director']).original_title.nunique().sort_values(ascending = False).head(2)\n",
    "\n",
    "#Declare dictionary to store directors list and number of\n",
    "director_storage = {}\n",
    "\n",
    "#create a sub dataset which satisfies conditions\n",
    "data_action = data[data.genres.str.contains('Action',na=False)]\n",
    "\n",
    "#go through all rows of sub dataset \n",
    "for i in data_action.index:\n",
    "    #apply functions to directors column: split into list of directos and \n",
    "    #update the dictionary with list of directors and movies count\n",
    "    add_item_dictionary(director_storage,split_string_to_list(data_action.director[i]))\n",
    "   \n",
    "#Apply function to our dictionary from previous step\n",
    "search_max_dict(director_storage)\n",
    "\n"
   ]
  },
  {
   "cell_type": "markdown",
   "metadata": {
    "colab_type": "text",
    "id": "PQ0KciD7Vp_f"
   },
   "source": [
    "# 15. Фильмы с каким актером принесли самые высокие кассовые сборы в 2012 году? "
   ]
  },
  {
   "cell_type": "code",
   "execution_count": 31,
   "metadata": {
    "colab": {},
    "colab_type": "code",
    "id": "aga62oeKVp_g"
   },
   "outputs": [
    {
     "data": {
      "text/plain": [
       "['Chris Hemsworth']"
      ]
     },
     "execution_count": 31,
     "metadata": {},
     "output_type": "execute_result"
    }
   ],
   "source": [
    "#Declare dictionary to store actors list and  movies cumulative revenue\n",
    "actors_profit_storage = {}\n",
    "\n",
    "#create a sub dataset which satisfies conditions\n",
    "data2012 = data.query('release_year == 2012')\n",
    "\n",
    "#go through all rows of sub dataset \n",
    "for i in data2012.index:\n",
    "    #apply functions to actors column: split into list of actors and \n",
    "    #update the dictionary with list of genres and  profit\n",
    "    add_item_profit_dictionary(actors_profit_storage,split_string_to_list(data2012.cast[i]),data2012.revenue[i])\n",
    "   \n",
    "#Apply function to our dictionary from previous step\n",
    "search_max_dict(actors_profit_storage)\n",
    "\n",
    "\n"
   ]
  },
  {
   "cell_type": "markdown",
   "metadata": {
    "colab_type": "text",
    "id": "mWHyyL7QVp_j"
   },
   "source": [
    "# 16. Какой актер снялся в большем количестве высокобюджетных фильмов?"
   ]
  },
  {
   "cell_type": "code",
   "execution_count": 34,
   "metadata": {
    "colab": {},
    "colab_type": "code",
    "id": "qQtmHKTFVp_k"
   },
   "outputs": [
    {
     "data": {
      "text/plain": [
       "['Matt Damon']"
      ]
     },
     "execution_count": 34,
     "metadata": {},
     "output_type": "execute_result"
    }
   ],
   "source": [
    "#filter dataset for high budget movies only\n",
    "data_profit_movies = data[data.budget > data.budget.mean()]\n",
    "\n",
    "#Declare dictionary to store all actors and count of movies\n",
    "actors_storage = {}\n",
    "   \n",
    "#go through all rows of dataset \n",
    "for i in data_profit_movies.index:\n",
    "    #apply functions to actors column: split into list of actors and \n",
    "    #update the dictionary with list of actors and  movie count\n",
    "    add_item_dictionary(actors_storage,split_string_to_list(data_profit_movies.cast[i]))\n",
    "   \n",
    "#Apply function to our dictionary from previous step\n",
    "search_max_dict(actors_storage)\n",
    "\n"
   ]
  },
  {
   "cell_type": "markdown",
   "metadata": {
    "colab_type": "text",
    "id": "NIh6AaW5Vp_n"
   },
   "source": [
    "# 17. В фильмах какого жанра больше всего снимался Nicolas Cage? "
   ]
  },
  {
   "cell_type": "code",
   "execution_count": 6,
   "metadata": {
    "colab": {},
    "colab_type": "code",
    "id": "H74SJDIBVp_n"
   },
   "outputs": [
    {
     "data": {
      "text/plain": [
       "['Action']"
      ]
     },
     "execution_count": 6,
     "metadata": {},
     "output_type": "execute_result"
    }
   ],
   "source": [
    "data_cage_movies = data[data.cast.str.contains('Nicolas Cage',na=False)]\n",
    "#Declare dictionary to store all genres and their frequency\n",
    "genres_storage = {}\n",
    "   \n",
    "#go through all rows of dataset \n",
    "for i in data_cage_movies.index:\n",
    "    #apply functions to genres column: split into list of genres and \n",
    "    #update the dictionary with list of genres\n",
    "    add_item_dictionary(genres_storage,split_string_to_list(data_cage_movies.genres[i]))\n",
    "   \n",
    "#Apply function to our dictionary from previous step\n",
    "search_max_dict(genres_storage)"
   ]
  },
  {
   "cell_type": "markdown",
   "metadata": {
    "colab_type": "text",
    "id": "RqOmPRfWVp_q"
   },
   "source": [
    "# 18. Самый убыточный фильм от Paramount Pictures"
   ]
  },
  {
   "cell_type": "code",
   "execution_count": 43,
   "metadata": {
    "colab": {},
    "colab_type": "code",
    "id": "9E_B0Y96Vp_r"
   },
   "outputs": [
    {
     "data": {
      "text/plain": [
       "925    K-19: The Widowmaker\n",
       "Name: original_title, dtype: object"
      ]
     },
     "execution_count": 43,
     "metadata": {},
     "output_type": "execute_result"
    }
   ],
   "source": [
    "\n",
    "#filter dataset for unprofitable movies only\n",
    "data_nonprofit = data[data.production_companies.str.contains('Paramount Pictures',na = False)].query('profit <= 0')\n",
    "data_nonprofit[data_nonprofit.profit == data_nonprofit.profit.min()].original_title\n",
    "\n"
   ]
  },
  {
   "cell_type": "markdown",
   "metadata": {
    "colab_type": "text",
    "id": "vS8Ur6ddVp_u"
   },
   "source": [
    "# 19. Какой год стал самым успешным по суммарным кассовым сборам?"
   ]
  },
  {
   "cell_type": "code",
   "execution_count": 44,
   "metadata": {
    "colab": {},
    "colab_type": "code",
    "id": "Dnbt4GdIVp_v"
   },
   "outputs": [
    {
     "data": {
      "text/plain": [
       "release_year\n",
       "2015    25449202382\n",
       "Name: revenue, dtype: int64"
      ]
     },
     "execution_count": 44,
     "metadata": {},
     "output_type": "execute_result"
    }
   ],
   "source": [
    "grouped_df=data.groupby(['release_year'])['revenue'].sum().sort_values(ascending=False)\n",
    "grouped_df.iloc[[0]]\n"
   ]
  },
  {
   "cell_type": "markdown",
   "metadata": {
    "colab_type": "text",
    "id": "JAzJh4QAVp_z"
   },
   "source": [
    "# 20. Какой самый прибыльный год для студии Warner Bros?"
   ]
  },
  {
   "cell_type": "code",
   "execution_count": 45,
   "metadata": {
    "colab": {},
    "colab_type": "code",
    "id": "wgVu02DEVp_0"
   },
   "outputs": [
    {
     "data": {
      "text/plain": [
       "release_year\n",
       "2014    2295464519\n",
       "Name: profit, dtype: int64"
      ]
     },
     "execution_count": 45,
     "metadata": {},
     "output_type": "execute_result"
    }
   ],
   "source": [
    "data_profit = data[data.production_companies.str.contains('Warner Bros',na = False)].groupby(['release_year'])['profit'].sum().sort_values(ascending=False)\n",
    "data_profit.iloc[[0]]"
   ]
  },
  {
   "cell_type": "markdown",
   "metadata": {
    "colab_type": "text",
    "id": "8Im1S2HRVp_4"
   },
   "source": [
    "# 21. В каком месяце за все годы суммарно вышло больше всего фильмов?"
   ]
  },
  {
   "cell_type": "code",
   "execution_count": 16,
   "metadata": {
    "colab": {},
    "colab_type": "code",
    "id": "lev6TH7gVp_4"
   },
   "outputs": [
    {
     "data": {
      "text/plain": [
       "[9]"
      ]
     },
     "execution_count": 16,
     "metadata": {},
     "output_type": "execute_result"
    }
   ],
   "source": [
    "#Declare dictionary to store all months and amount of movies\n",
    "month_movie_storage = {}\n",
    "\n",
    "\n",
    "\n",
    "#go through all rows of dataset \n",
    "for i in data.index:\n",
    "    #apply functions to release_date column: split into list of genres and \n",
    "    #update the dictionary with list of genres\n",
    "    list=[]\n",
    "    list = split_release_date(data.release_date[i])\n",
    "    add_single_item_dictionary(month_movie_storage,int(list[0]))\n",
    "   \n",
    " #Apply function to our dictionary from previous step\n",
    "search_max_dict(month_movie_storage)\n",
    "\n",
    "\n"
   ]
  },
  {
   "cell_type": "markdown",
   "metadata": {
    "colab_type": "text",
    "id": "uAJsZ_NeVp_7"
   },
   "source": [
    "# 22. Сколько суммарно вышло фильмов летом? (за июнь, июль, август)"
   ]
  },
  {
   "cell_type": "code",
   "execution_count": 17,
   "metadata": {
    "colab": {},
    "colab_type": "code",
    "id": "Aa-hEREoVp_8"
   },
   "outputs": [
    {
     "data": {
      "text/plain": [
       "450"
      ]
     },
     "execution_count": 17,
     "metadata": {},
     "output_type": "execute_result"
    }
   ],
   "source": [
    "month_movie_storage[6]+month_movie_storage[7]+month_movie_storage[8]"
   ]
  },
  {
   "cell_type": "markdown",
   "metadata": {
    "colab_type": "text",
    "id": "G94ppOY1VqAA"
   },
   "source": [
    "# 23. Для какого режиссера зима – самое продуктивное время года? "
   ]
  },
  {
   "cell_type": "code",
   "execution_count": 18,
   "metadata": {
    "colab": {},
    "colab_type": "code",
    "id": "RhNTsamuVqAB"
   },
   "outputs": [
    {
     "data": {
      "text/plain": [
       "['Peter Jackson']"
      ]
     },
     "execution_count": 18,
     "metadata": {},
     "output_type": "execute_result"
    }
   ],
   "source": [
    "#Declare dictionary to store all directos and amount of movies released in winter\n",
    "winter_movie_director_storage = {}\n",
    "\n",
    "\n",
    "\n",
    "#go through all rows of dataset \n",
    "for i in data.index:\n",
    "    #apply functions to release_date column: split into list of genres and \n",
    "    #update the dictionary with list of genres\n",
    "    list=[]\n",
    "    list = split_release_date(data.release_date[i])\n",
    "    #check that only winter months 1,2 and 12 are analysed\n",
    "    if int(list[0]) == 12 or int(list[0]) <=2:\n",
    "        add_item_dictionary(winter_movie_director_storage,split_string_to_list(data.director[i]))\n",
    "        \n",
    "search_max_dict(winter_movie_director_storage)"
   ]
  },
  {
   "cell_type": "markdown",
   "metadata": {
    "colab_type": "text",
    "id": "RBo0JVjVVqAF"
   },
   "source": [
    "# 24. Какая студия дает самые длинные названия своим фильмам по количеству символов?"
   ]
  },
  {
   "cell_type": "code",
   "execution_count": 51,
   "metadata": {
    "colab": {},
    "colab_type": "code",
    "id": "QRGS8L0iVqAG"
   },
   "outputs": [
    {
     "data": {
      "text/plain": [
       "'Four By Two Productions'"
      ]
     },
     "execution_count": 51,
     "metadata": {},
     "output_type": "execute_result"
    }
   ],
   "source": [
    "#Assumption - longest titles on average\n",
    "#Declare dictionary to store all production companies and their frequency\n",
    "prod_storage = {}\n",
    "prod_length = {}\n",
    "   \n",
    "#go through all rows of dataset \n",
    "for i in data.index:\n",
    "    #apply functions to production_companies column: split into list of production_companies and \n",
    "    #update the dictionary with list of production_companies\n",
    "    add_item_dictionary(prod_storage,split_string_to_list(data.production_companies[i]))\n",
    "    add_item_profit_dictionary(prod_length,split_string_to_list(data.production_companies[i]),data.title_length[i])\n",
    "   \n",
    "\n",
    "max = 0\n",
    "# Iterate over all the items in dictionary to find keys with max value\n",
    "for key, value in prod_storage.items():\n",
    "    #dict.get('Education', \"Never\")\n",
    "    if prod_length.get(key,1)/value > max:\n",
    "        max = prod_length.get(key) / value\n",
    "        max_prod = key\n",
    "max_prod   \n"
   ]
  },
  {
   "cell_type": "markdown",
   "metadata": {
    "colab_type": "text",
    "id": "9G0hbvR7VqAK"
   },
   "source": [
    "# 25. Описание фильмов какой студии в среднем самые длинные по количеству слов?"
   ]
  },
  {
   "cell_type": "code",
   "execution_count": 62,
   "metadata": {
    "colab": {},
    "colab_type": "code",
    "id": "Ge2GsLNxVqAK"
   },
   "outputs": [
    {
     "data": {
      "text/plain": [
       "'Midnight Picture Show'"
      ]
     },
     "execution_count": 62,
     "metadata": {},
     "output_type": "execute_result"
    }
   ],
   "source": [
    "#Declare dictionary to store all production companies and their frequency\n",
    "prod_storage = {}\n",
    "prod_desc_length = {}\n",
    "   \n",
    "#go through all rows of dataset \n",
    "for i in data.index:\n",
    "    #apply functions to production_companies column: split into list of production_companies and \n",
    "    #update the dictionary with list of production_companies and movies count\n",
    "    add_item_dictionary(prod_storage,split_string_to_list(data.production_companies[i]))\n",
    "     #apply functions to production_companies column: split into list of production_companies and \n",
    "    #update the dictionary with list of production_companies and total amount of words of all their movies descriptions\n",
    "    add_item_profit_dictionary(prod_desc_length,split_string_to_list(data.production_companies[i]),data.desc_len[i])\n",
    "   \n",
    "\n",
    "max = 0\n",
    "# Iterate over all the items in both dictionary to find keys with max value\n",
    "for key, value in prod_storage.items():\n",
    "    #check if average descrption length (cumulative length divided by number of movies) is \n",
    "    #greater then known max\n",
    "     if prod_desc_length.get(key,0) / value > max:\n",
    "        #update max\n",
    "        max = prod_desc_length.get(key) / value\n",
    "        #store production company name\n",
    "        max_prod = key\n",
    "#display company name\n",
    "max_prod  \n",
    "\n"
   ]
  },
  {
   "cell_type": "markdown",
   "metadata": {
    "colab_type": "text",
    "id": "FJ1AFt90VqAP"
   },
   "source": [
    "# 26. Какие фильмы входят в 1 процент лучших по рейтингу? \n",
    "по vote_average"
   ]
  },
  {
   "cell_type": "code",
   "execution_count": 63,
   "metadata": {
    "colab": {},
    "colab_type": "code",
    "id": "8qmJVq4CVqAQ"
   },
   "outputs": [
    {
     "data": {
      "text/plain": [
       "['The Dark Knight',\n",
       " 'Interstellar',\n",
       " 'The Imitation Game',\n",
       " 'Inside Out',\n",
       " 'Room',\n",
       " 'The Wolf of Wall Street',\n",
       " 'Gone Girl',\n",
       " '12 Years a Slave',\n",
       " 'Guardians of the Galaxy',\n",
       " 'The Lord of the Rings: The Return of the King',\n",
       " 'Memento',\n",
       " 'Inception',\n",
       " 'The Pianist',\n",
       " 'The Grand Budapest Hotel',\n",
       " 'Her',\n",
       " 'Spotlight',\n",
       " 'Big Hero 6',\n",
       " 'The Fault in Our Stars']"
      ]
     },
     "execution_count": 63,
     "metadata": {},
     "output_type": "execute_result"
    }
   ],
   "source": [
    "\n",
    "data.sort_values(['vote_average'],ascending=False).original_title.head(int(len(data)*0.01)).tolist()\n"
   ]
  },
  {
   "cell_type": "markdown",
   "metadata": {
    "colab_type": "text",
    "id": "MdXsUXbCVqAV"
   },
   "source": [
    "# 27. Какие актеры чаще всего снимаются в одном фильме вместе?\n"
   ]
  },
  {
   "cell_type": "code",
   "execution_count": 116,
   "metadata": {
    "colab_type": "text",
    "id": "4ymnxEVoVqAW"
   },
   "outputs": [
    {
     "data": {
      "text/plain": [
       "{('Daniel Radcliffe', 'Rupert Grint'): 8,\n",
       " ('Daniel Radcliffe', 'Emma Watson'): 8,\n",
       " ('Rupert Grint', 'Emma Watson'): 8,\n",
       " ('Vin Diesel', 'Paul Walker'): 5,\n",
       " ('Kristen Stewart', 'Robert Pattinson'): 5,\n",
       " ('Kristen Stewart', 'Taylor Lautner'): 5,\n",
       " ('Robert Pattinson', 'Taylor Lautner'): 5,\n",
       " ('Johnny Depp', 'Helena Bonham Carter'): 5,\n",
       " ('Jennifer Lawrence', 'Josh Hutcherson'): 4,\n",
       " ('Jennifer Lawrence', 'Liam Hemsworth'): 4,\n",
       " ('Jennifer Lawrence', 'Woody Harrelson'): 4,\n",
       " ('Josh Hutcherson', 'Liam Hemsworth'): 4,\n",
       " ('Josh Hutcherson', 'Woody Harrelson'): 4,\n",
       " ('Liam Hemsworth', 'Woody Harrelson'): 4,\n",
       " ('Adam Sandler', 'Kevin James'): 4,\n",
       " ('Hugh Jackman', 'Patrick Stewart'): 4,\n",
       " ('Matt Damon', 'George Clooney'): 4,\n",
       " ('Ben Stiller', 'Owen Wilson'): 4,\n",
       " ('Tobin Bell', 'Costas Mandylor'): 4,\n",
       " ('Tobin Bell', 'Betsy Russell'): 4,\n",
       " ('Costas Mandylor', 'Betsy Russell'): 4,\n",
       " ('Vin Diesel', 'Jordana Brewster'): 4,\n",
       " ('Paul Walker', 'Jordana Brewster'): 4,\n",
       " ('Mike Myers', 'Eddie Murphy'): 4,\n",
       " ('Mike Myers', 'Cameron Diaz'): 4,\n",
       " ('Eddie Murphy', 'Cameron Diaz'): 4,\n",
       " ('George Clooney', 'Brad Pitt'): 4,\n",
       " ('Hugh Jackman', 'Halle Berry'): 4,\n",
       " ('Christian Bale', 'Michael Caine'): 4,\n",
       " ('Hugh Jackman', 'Ian McKellen'): 4,\n",
       " ('Vin Diesel', 'Michelle Rodriguez'): 3,\n",
       " ('Paul Walker', 'Michelle Rodriguez'): 3,\n",
       " ('Robert Downey Jr.', 'Mark Ruffalo'): 3,\n",
       " ('Liam Neeson', 'Maggie Grace'): 3,\n",
       " ('Liam Neeson', 'Famke Janssen'): 3,\n",
       " ('Maggie Grace', 'Famke Janssen'): 3,\n",
       " ('Johnny Depp', 'Paul Bettany'): 3,\n",
       " ('Martin Freeman', 'Ian McKellen'): 3,\n",
       " ('Martin Freeman', 'Richard Armitage'): 3,\n",
       " ('Ian McKellen', 'Richard Armitage'): 3,\n",
       " ('Jason Bateman', 'Jennifer Aniston'): 3,\n",
       " ('James Franco', 'Seth Rogen'): 3,\n",
       " ('Sylvester Stallone', 'Jason Statham'): 3,\n",
       " ('Morgan Freeman', 'Ashley Judd'): 3,\n",
       " ('Bradley Cooper', 'Ed Helms'): 3,\n",
       " ('Bradley Cooper', 'Zach Galifianakis'): 3,\n",
       " ('Bradley Cooper', 'Justin Bartha'): 3,\n",
       " ('Ed Helms', 'Zach Galifianakis'): 3,\n",
       " ('Ed Helms', 'Justin Bartha'): 3,\n",
       " ('Zach Galifianakis', 'Justin Bartha'): 3,\n",
       " ('David Cross', 'Jason Lee'): 3,\n",
       " ('Robert Downey Jr.', 'Gwyneth Paltrow'): 3,\n",
       " ('Robert De Niro', 'Ben Stiller'): 3,\n",
       " ('Emily Blunt', 'Jason Segel'): 3,\n",
       " ('Steve Carell', 'Paul Rudd'): 3,\n",
       " ('Elijah Wood', 'Ian McKellen'): 3,\n",
       " ('Elijah Wood', 'Viggo Mortensen'): 3,\n",
       " ('Elijah Wood', 'Liv Tyler'): 3,\n",
       " ('Ian McKellen', 'Viggo Mortensen'): 3,\n",
       " ('Ian McKellen', 'Liv Tyler'): 3,\n",
       " ('Viggo Mortensen', 'Liv Tyler'): 3,\n",
       " ('Jason Biggs', 'Seann William Scott'): 3,\n",
       " ('Marlon Wayans', 'Shawn Wayans'): 3,\n",
       " ('Alexa PenaVega', 'Daryl Sabara'): 3,\n",
       " ('Alexa PenaVega', 'Antonio Banderas'): 3,\n",
       " ('Alexa PenaVega', 'Carla Gugino'): 3,\n",
       " ('Daryl Sabara', 'Antonio Banderas'): 3,\n",
       " ('Daryl Sabara', 'Carla Gugino'): 3,\n",
       " ('Antonio Banderas', 'Carla Gugino'): 3,\n",
       " ('Daniel Craig', 'Judi Dench'): 3,\n",
       " ('Ben Stiller', 'David Schwimmer'): 3,\n",
       " ('John Cho', 'Neil Patrick Harris'): 3,\n",
       " ('Amy Adams', 'Philip Seymour Hoffman'): 3,\n",
       " ('Johnny Depp', 'Geoffrey Rush'): 3,\n",
       " ('Kate Winslet', 'Jude Law'): 3,\n",
       " ('Ray Romano', 'John Leguizamo'): 3,\n",
       " ('Ray Romano', 'Denis Leary'): 3,\n",
       " ('John Leguizamo', 'Denis Leary'): 3,\n",
       " ('Tobey Maguire', 'Kirsten Dunst'): 3,\n",
       " ('Tobey Maguire', 'James Franco'): 3,\n",
       " ('Kirsten Dunst', 'James Franco'): 3,\n",
       " ('Ice Cube', 'Mike Epps'): 3,\n",
       " ('Johnny Depp', 'Orlando Bloom'): 3,\n",
       " ('Johnny Depp', 'Keira Knightley'): 3,\n",
       " ('Orlando Bloom', 'Keira Knightley'): 3,\n",
       " ('Patrick Stewart', 'Ian McKellen'): 3,\n",
       " ('Patrick Stewart', 'Halle Berry'): 3,\n",
       " ('Ian McKellen', 'Halle Berry'): 3,\n",
       " ('Shailene Woodley', 'Theo James'): 2,\n",
       " ('Shailene Woodley', 'Kate Winslet'): 2,\n",
       " ('Shailene Woodley', 'Ansel Elgort'): 2,\n",
       " ('Theo James', 'Kate Winslet'): 2,\n",
       " ('Leonardo DiCaprio', 'Tom Hardy'): 2,\n",
       " ('Daniel Craig', 'Ralph Fiennes'): 2,\n",
       " ('Robert Downey Jr.', 'Chris Hemsworth'): 2,\n",
       " ('Robert Downey Jr.', 'Chris Evans'): 2,\n",
       " ('Chris Hemsworth', 'Mark Ruffalo'): 2,\n",
       " ('Chris Hemsworth', 'Chris Evans'): 2,\n",
       " ('Mark Ruffalo', 'Chris Evans'): 2,\n",
       " ('Dwayne Johnson', 'Carla Gugino'): 2,\n",
       " ('Steve Carell', 'Ryan Gosling'): 2,\n",
       " ('Tom Cruise', 'Jeremy Renner'): 2,\n",
       " ('Tom Cruise', 'Simon Pegg'): 2,\n",
       " ('Jeremy Renner', 'Simon Pegg'): 2,\n",
       " ('Mark Wahlberg', 'Seth MacFarlane'): 2,\n",
       " (\"Dylan O'Brien\", 'Kaya Scodelario'): 2,\n",
       " ('Anna Kendrick', 'Brittany Snow'): 2,\n",
       " ('Liam Neeson', 'Boyd Holbrook'): 2,\n",
       " ('Edgar RamÃ\\xadrez', 'Delroy Lindo'): 2,\n",
       " ('Bradley Cooper', 'Sienna Miller'): 2,\n",
       " ('Miles Teller', 'Michael B. Jordan'): 2,\n",
       " ('Joseph Gordon-Levitt', 'Seth Rogen'): 2,\n",
       " ('Seth Rogen', 'Lizzy Caplan'): 2,\n",
       " ('John Goodman', 'Alan Arkin'): 2,\n",
       " ('Gary Oldman', 'Joel Kinnaman'): 2,\n",
       " ('Will Ferrell', 'Mark Wahlberg'): 2,\n",
       " ('Kevin James', 'Raini Rodriguez'): 2,\n",
       " ('Tina Fey', 'Amy Poehler'): 2,\n",
       " ('Tom Kenny', 'Bill Fagerbakke'): 2,\n",
       " ('Tom Kenny', 'Rodger Bumpass'): 2,\n",
       " ('Tom Kenny', 'Clancy Brown'): 2,\n",
       " ('Bill Fagerbakke', 'Rodger Bumpass'): 2,\n",
       " ('Bill Fagerbakke', 'Clancy Brown'): 2,\n",
       " ('Rodger Bumpass', 'Clancy Brown'): 2,\n",
       " ('Sanaa Lathan', 'Morris Chestnut'): 2,\n",
       " ('Anne Hathaway', 'Michael Caine'): 2,\n",
       " ('Chris Evans', 'Scarlett Johansson'): 2,\n",
       " ('Scarlett Johansson', 'Samuel L. Jackson'): 2,\n",
       " ('Martin Freeman', 'Ken Stott'): 2,\n",
       " ('Ian McKellen', 'Ken Stott'): 2,\n",
       " ('Richard Armitage', 'Ken Stott'): 2,\n",
       " ('Ben Stiller', 'Robin Williams'): 2,\n",
       " ('James McAvoy', 'Michael Fassbender'): 2,\n",
       " ('Cameron Diaz', 'Jason Segel'): 2,\n",
       " ('Jason Bateman', 'Jason Sudeikis'): 2,\n",
       " ('Jason Bateman', 'Charlie Day'): 2,\n",
       " ('Jason Sudeikis', 'Charlie Day'): 2,\n",
       " ('Jason Sudeikis', 'Jennifer Aniston'): 2,\n",
       " ('Charlie Day', 'Jennifer Aniston'): 2,\n",
       " ('Andrew Garfield', 'Emma Stone'): 2,\n",
       " ('Jay Baruchel', 'Gerard Butler'): 2,\n",
       " ('Jay Baruchel', 'Jonah Hill'): 2,\n",
       " ('Sylvester Stallone', 'Arnold Schwarzenegger'): 2,\n",
       " ('Meryl Streep', 'Emily Blunt'): 2,\n",
       " ('Jonah Hill', 'Channing Tatum'): 2,\n",
       " ('Jonah Hill', 'Dave Franco'): 2,\n",
       " ('Channing Tatum', 'Dave Franco'): 2,\n",
       " ('Russell Crowe', 'Jennifer Connelly'): 2,\n",
       " ('Russell Crowe', 'Logan Lerman'): 2,\n",
       " ('Emma Watson', 'Logan Lerman'): 2,\n",
       " ('Drew Barrymore', 'Adam Sandler'): 2,\n",
       " ('Ryan Guzman', 'Stephen Boss'): 2,\n",
       " ('Liam Neeson', 'Julianne Moore'): 2,\n",
       " ('Jesse Eisenberg', 'Anne Hathaway'): 2,\n",
       " ('Jesse Eisenberg', 'Leslie Mann'): 2,\n",
       " ('Anne Hathaway', 'Leslie Mann'): 2,\n",
       " ('Cate Blanchett', 'George Clooney'): 2,\n",
       " ('Cate Blanchett', 'Bill Murray'): 2,\n",
       " ('George Clooney', 'Bill Murray'): 2,\n",
       " ('Kit Harington', 'Carrie-Anne Moss'): 2,\n",
       " ('Channing Tatum', 'Sienna Miller'): 2,\n",
       " ('Zac Efron', 'Imogen Poots'): 2,\n",
       " ('Michael Ealy', 'Regina Hall'): 2,\n",
       " ('Morgan Freeman', 'Nathan Gamble'): 2,\n",
       " ('Ashley Judd', 'Nathan Gamble'): 2,\n",
       " ('Michael Sheen', 'Shane Brolly'): 2,\n",
       " ('Chris Pine', 'Zachary Quinto'): 2,\n",
       " ('Robert Downey Jr.', 'Jude Law'): 2,\n",
       " ('John Cusack', 'Amanda Peet'): 2,\n",
       " ('John C. Reilly', 'Jennifer Connelly'): 2,\n",
       " ('Jennifer Connelly', 'Christopher Plummer'): 2,\n",
       " ('Jesse Eisenberg', 'Woody Harrelson'): 2,\n",
       " ('Kristen Stewart', 'Billy Burke'): 2,\n",
       " ('Robert Pattinson', 'Billy Burke'): 2,\n",
       " ('Taylor Lautner', 'Billy Burke'): 2,\n",
       " ('Bill Hader', 'Anna Faris'): 2,\n",
       " ('Bill Hader', 'James Caan'): 2,\n",
       " ('Anna Faris', 'James Caan'): 2,\n",
       " ('Jason Statham', 'Amy Smart'): 2,\n",
       " ('Jason Statham', 'Efren Ramirez'): 2,\n",
       " ('Amy Smart', 'Efren Ramirez'): 2,\n",
       " ('Seth Rogen', 'Paul Rudd'): 2,\n",
       " ('Reese Witherspoon', 'Paul Rudd'): 2,\n",
       " ('Meryl Streep', 'Amy Adams'): 2,\n",
       " ('Meryl Streep', 'Stanley Tucci'): 2,\n",
       " ('Paul Rudd', 'Jason Segel'): 2,\n",
       " ('Shia LaBeouf', 'Megan Fox'): 2,\n",
       " ('Shia LaBeouf', 'Josh Duhamel'): 2,\n",
       " ('Megan Fox', 'Josh Duhamel'): 2,\n",
       " ('Jeff Bridges', 'Kevin Spacey'): 2,\n",
       " ('Dwayne Johnson', 'Seann William Scott'): 2,\n",
       " ('Nicolas Cage', 'Eva Mendes'): 2,\n",
       " ('Seth Rogen', 'Leslie Mann'): 2,\n",
       " ('Naomi Watts', 'Armin Mueller-Stahl'): 2,\n",
       " ('Jordana Brewster', 'Michelle Rodriguez'): 2,\n",
       " ('Clive Owen', 'Julia Roberts'): 2,\n",
       " ('Clive Owen', 'Paul Giamatti'): 2,\n",
       " ('Julia Roberts', 'Paul Giamatti'): 2,\n",
       " ('Robert Downey Jr.', 'Jamie Foxx'): 2,\n",
       " ('Michael Caine', 'Emily Mortimer'): 2,\n",
       " ('Robert Downey Jr.', 'Don Cheadle'): 2,\n",
       " ('Gwyneth Paltrow', 'Don Cheadle'): 2,\n",
       " ('Daniel Radcliffe', 'Ralph Fiennes'): 2,\n",
       " ('Emma Watson', 'Ralph Fiennes'): 2,\n",
       " ('Rupert Grint', 'Ralph Fiennes'): 2,\n",
       " ('Jason Segel', 'Russell Brand'): 2,\n",
       " ('Sylvester Stallone', 'Dolph Lundgren'): 2,\n",
       " ('Jason Statham', 'Dolph Lundgren'): 2,\n",
       " ('Skandar Keynes', 'Georgie Henley'): 2,\n",
       " ('Russell Crowe', 'Mark Strong'): 2,\n",
       " ('Sam Worthington', 'Liam Neeson'): 2,\n",
       " ('Sam Worthington', 'Ralph Fiennes'): 2,\n",
       " ('Liam Neeson', 'Ralph Fiennes'): 2,\n",
       " ('Robert De Niro', 'Dustin Hoffman'): 2,\n",
       " ('Ben Stiller', 'Dustin Hoffman'): 2,\n",
       " ('Logan Lerman', 'Alexandra Daddario'): 2,\n",
       " ('Bradley Cooper', 'Jessica Biel'): 2,\n",
       " ('Danny Trejo', 'Michelle Rodriguez'): 2,\n",
       " ('Adam Sandler', 'Steve Buscemi'): 2,\n",
       " ('Kristen Stewart', 'Ashley Greene'): 2,\n",
       " ('Robert Pattinson', 'Ashley Greene'): 2,\n",
       " ('Taylor Lautner', 'Ashley Greene'): 2,\n",
       " ('Brad Pitt', 'Jonah Hill'): 2,\n",
       " ('Mark Wahlberg', 'Eva Mendes'): 2,\n",
       " ('Eva Mendes', 'Samuel L. Jackson'): 2,\n",
       " ('Tom Cruise', 'Cameron Diaz'): 2,\n",
       " ('Matt Damon', 'Greg Kinnear'): 2,\n",
       " ('Jack Black', 'Amanda Peet'): 2,\n",
       " ('Christian Bale', 'Amy Adams'): 2,\n",
       " ('Katherine Heigl', 'Ashton Kutcher'): 2,\n",
       " ('Sarah Jessica Parker', 'Kristin Davis'): 2,\n",
       " ('Sarah Jessica Parker', 'Cynthia Nixon'): 2,\n",
       " ('Sarah Jessica Parker', 'Kim Cattrall'): 2,\n",
       " ('Kristin Davis', 'Cynthia Nixon'): 2,\n",
       " ('Kristin Davis', 'Kim Cattrall'): 2,\n",
       " ('Cynthia Nixon', 'Kim Cattrall'): 2,\n",
       " ('Emma Thompson', 'Maggie Gyllenhaal'): 2,\n",
       " ('Robert De Niro', 'Edward Norton'): 2,\n",
       " ('Zachary Gordon', 'Robert Capron'): 2,\n",
       " ('Naomi Watts', 'Sean Penn'): 2,\n",
       " ('Tyler Perry', 'Janet Jackson'): 2,\n",
       " ('Tyler Perry', 'Jill Scott'): 2,\n",
       " ('Janet Jackson', 'Jill Scott'): 2,\n",
       " ('Milla Jovovich', 'Ali Larter'): 2,\n",
       " ('John Goodman', 'Billy Crystal'): 2,\n",
       " ('John Goodman', 'Steve Buscemi'): 2,\n",
       " ('Billy Crystal', 'Steve Buscemi'): 2,\n",
       " ('RenÃ©e Zellweger', 'Colin Firth'): 2,\n",
       " ('RenÃ©e Zellweger', 'Hugh Grant'): 2,\n",
       " ('Colin Firth', 'Hugh Grant'): 2,\n",
       " ('Brad Pitt', 'Matt Damon'): 2,\n",
       " ('Brendan Fraser', 'John Hannah'): 2,\n",
       " ('Angelina Jolie', 'Noah Taylor'): 2,\n",
       " ('Jason Biggs', 'Chris Klein'): 2,\n",
       " ('Chris Klein', 'Seann William Scott'): 2,\n",
       " ('Anne Hathaway', 'Julie Andrews'): 2,\n",
       " ('Ewan McGregor', 'Jim Broadbent'): 2,\n",
       " ('Johnny Depp', 'PenÃ©lope Cruz'): 2,\n",
       " ('Jude Law', 'Rachel Weisz'): 2,\n",
       " ('Heath Ledger', 'Shannyn Sossamon'): 2,\n",
       " ('Ben Stiller', 'Christine Taylor'): 2,\n",
       " ('Chris Tucker', 'Jackie Chan'): 2,\n",
       " ('Kevin Smith', 'Jason Mewes'): 2,\n",
       " ('Kevin Smith', 'Jeff Anderson'): 2,\n",
       " ('Jason Mewes', 'Jeff Anderson'): 2,\n",
       " ('Seth Green', 'Breckin Meyer'): 2,\n",
       " ('Brad Pitt', 'Julia Roberts'): 2,\n",
       " ('Brad Pitt', 'James Gandolfini'): 2,\n",
       " ('Bill Paxton', 'Matthew McConaughey'): 2,\n",
       " ('Anthony Hopkins', 'Hope Davis'): 2,\n",
       " ('Robert De Niro', 'Charlize Theron'): 2,\n",
       " ('DMX', 'Anthony Anderson'): 2,\n",
       " ('John Travolta', 'Vince Vaughn'): 2,\n",
       " ('Freddie Prinze Jr.', 'Matthew Lillard'): 2,\n",
       " ('Jack Black', 'Dustin Hoffman'): 2,\n",
       " ('Jack Black', 'Angelina Jolie'): 2,\n",
       " ('Dustin Hoffman', 'Angelina Jolie'): 2,\n",
       " ('Cate Blanchett', 'Brad Pitt'): 2,\n",
       " ('Brad Pitt', 'Tilda Swinton'): 2,\n",
       " ('Ben Stiller', 'Jada Pinkett Smith'): 2,\n",
       " ('Ben Stiller', 'Chris Rock'): 2,\n",
       " ('Jada Pinkett Smith', 'David Schwimmer'): 2,\n",
       " ('Jada Pinkett Smith', 'Chris Rock'): 2,\n",
       " ('David Schwimmer', 'Chris Rock'): 2,\n",
       " ('Ron Perlman', 'Selma Blair'): 2,\n",
       " ('Jason Statham', 'FranÃ§ois BerlÃ©and'): 2,\n",
       " ('Will Smith', 'Charlize Theron'): 2,\n",
       " ('William Moseley', 'Anna Popplewell'): 2,\n",
       " ('William Moseley', 'Skandar Keynes'): 2,\n",
       " ('Anna Popplewell', 'Skandar Keynes'): 2,\n",
       " ('Hugh Jackman', 'David Wenham'): 2,\n",
       " ('George Clooney', 'Tilda Swinton'): 2,\n",
       " ('Will Ferrell', 'John C. Reilly'): 2,\n",
       " ('Will Ferrell', 'Mary Steenburgen'): 2,\n",
       " ('Matthew McConaughey', 'Kate Hudson'): 2,\n",
       " ('James Franco', 'Danny McBride'): 2,\n",
       " ('Mark Wahlberg', 'Mila Kunis'): 2,\n",
       " ('Paul Rudd', 'Elizabeth Banks'): 2,\n",
       " ('John Cho', 'Kal Penn'): 2,\n",
       " ('Kal Penn', 'Neil Patrick Harris'): 2,\n",
       " ('Tobin Bell', 'Scott Patterson'): 2,\n",
       " ('Costas Mandylor', 'Scott Patterson'): 2,\n",
       " ('Scott Patterson', 'Betsy Russell'): 2,\n",
       " ('Jim Carrey', 'Steve Carell'): 2,\n",
       " ('Robert De Niro', 'Carla Gugino'): 2,\n",
       " ('Adam Sandler', 'John Turturro'): 2,\n",
       " ('Daniel Craig', 'Jamie Bell'): 2,\n",
       " ('Sean Penn', 'Josh Brolin'): 2,\n",
       " ('Bruce Willis', 'Robin Wright'): 2,\n",
       " ('Chris Hemsworth', 'Natalie Portman'): 2,\n",
       " ('Chris Hemsworth', 'Tom Hiddleston'): 2,\n",
       " ('Chris Hemsworth', 'Anthony Hopkins'): 2,\n",
       " ('Natalie Portman', 'Tom Hiddleston'): 2,\n",
       " ('Natalie Portman', 'Anthony Hopkins'): 2,\n",
       " ('Tom Hiddleston', 'Anthony Hopkins'): 2,\n",
       " ('Ryan Gosling', 'Emma Stone'): 2,\n",
       " ('Bradley Cooper', 'Robert De Niro'): 2,\n",
       " ('Larry the Cable Guy', 'Owen Wilson'): 2,\n",
       " ('Johnny Depp', 'Bill Nighy'): 2,\n",
       " ('Matthew McConaughey', 'William H. Macy'): 2,\n",
       " ('Jim Cummings', 'Travis Oates'): 2,\n",
       " ('Jim Cummings', 'Bud Luckey'): 2,\n",
       " ('Tom Hanks', 'Julia Roberts'): 2,\n",
       " ('Antonio Banderas', 'Salma Hayek'): 2,\n",
       " ('Gwyneth Paltrow', 'Jude Law'): 2,\n",
       " ('Robert De Niro', 'Katherine Heigl'): 2,\n",
       " ('David Arquette', 'Neve Campbell'): 2,\n",
       " ('David Arquette', 'Courteney Cox'): 2,\n",
       " ('Neve Campbell', 'Courteney Cox'): 2,\n",
       " ('Devon Bostick', 'Rachael Harris'): 2,\n",
       " ('Bill Nighy', 'Judi Dench'): 2,\n",
       " ('Neil Patrick Harris', 'Hank Azaria'): 2,\n",
       " ('James McAvoy', 'Julie Walters'): 2,\n",
       " ('Vin Diesel', 'Dwayne Johnson'): 2,\n",
       " ('Paul Walker', 'Dwayne Johnson'): 2,\n",
       " ('Dwayne Johnson', 'Jordana Brewster'): 2,\n",
       " ('Matt Damon', 'Franka Potente'): 2,\n",
       " ('Matt Damon', 'Chris Cooper'): 2,\n",
       " ('Milla Jovovich', 'Michelle Rodriguez'): 2,\n",
       " ('Ewan McGregor', 'Natalie Portman'): 2,\n",
       " ('Ewan McGregor', 'Hayden Christensen'): 2,\n",
       " ('Ewan McGregor', 'Ian McDiarmid'): 2,\n",
       " ('Natalie Portman', 'Hayden Christensen'): 2,\n",
       " ('Natalie Portman', 'Ian McDiarmid'): 2,\n",
       " ('Hayden Christensen', 'Ian McDiarmid'): 2,\n",
       " ('Tommy Lee Jones', 'Will Smith'): 2,\n",
       " ('Adrien Brody', 'Thomas Kretschmann'): 2,\n",
       " ('Wesley Snipes', 'Kris Kristofferson'): 2,\n",
       " ('Johnny Knoxville', 'Bam Margera'): 2,\n",
       " ('Johnny Knoxville', 'Steve-O'): 2,\n",
       " ('Johnny Knoxville', 'Chris Pontius'): 2,\n",
       " ('Bam Margera', 'Steve-O'): 2,\n",
       " ('Bam Margera', 'Chris Pontius'): 2,\n",
       " ('Steve-O', 'Chris Pontius'): 2,\n",
       " ('Nicolas Cage', 'Meryl Streep'): 2,\n",
       " ('Meryl Streep', 'Chris Cooper'): 2,\n",
       " ('Ice Cube', 'Cedric the Entertainer'): 2,\n",
       " ('Ice Cube', 'Sean Patrick Thomas'): 2,\n",
       " ('Cedric the Entertainer', 'Sean Patrick Thomas'): 2,\n",
       " ('Ice Cube', 'John Witherspoon'): 2,\n",
       " ('Mike Epps', 'John Witherspoon'): 2,\n",
       " ('Jamie Foxx', 'Kerry Washington'): 2,\n",
       " ('Kelly Macdonald', 'Emma Thompson'): 2,\n",
       " ('Naomi Watts', 'Ewan McGregor'): 2,\n",
       " ('Tommy Lee Jones', 'Josh Brolin'): 2,\n",
       " ('Jason Biggs', 'Alyson Hannigan'): 2,\n",
       " ('Alyson Hannigan', 'Seann William Scott'): 2,\n",
       " ('Adam Sandler', 'David Spade'): 2,\n",
       " ('David Spade', 'Kevin James'): 2,\n",
       " ('Mark Wahlberg', 'Ben Foster'): 2,\n",
       " ('Joaquin Phoenix', 'Amy Adams'): 2,\n",
       " ('Paul Rudd', 'Leslie Mann'): 2,\n",
       " ('Richard Gere', 'Susan Sarandon'): 2,\n",
       " ('Milla Jovovich', 'Sienna Guillory'): 2,\n",
       " ('Kate Beckinsale', 'Scott Speedman'): 2,\n",
       " ('Kate Beckinsale', 'Shane Brolly'): 2,\n",
       " ('Scott Speedman', 'Shane Brolly'): 2,\n",
       " ('Geoffrey Rush', 'Orlando Bloom'): 2,\n",
       " ('Geoffrey Rush', 'Keira Knightley'): 2,\n",
       " ('Uma Thurman', 'Daryl Hannah'): 2,\n",
       " ('Keanu Reeves', 'Laurence Fishburne'): 2,\n",
       " ('Keanu Reeves', 'Carrie-Anne Moss'): 2,\n",
       " ('Keanu Reeves', 'Hugo Weaving'): 2,\n",
       " ('Laurence Fishburne', 'Carrie-Anne Moss'): 2,\n",
       " ('Laurence Fishburne', 'Hugo Weaving'): 2,\n",
       " ('Carrie-Anne Moss', 'Hugo Weaving'): 2,\n",
       " ('Cameron Diaz', 'Drew Barrymore'): 2,\n",
       " ('Cameron Diaz', 'Lucy Liu'): 2,\n",
       " ('Drew Barrymore', 'Lucy Liu'): 2,\n",
       " ('Ali Larter', 'Tony Todd'): 2,\n",
       " ('Steve Martin', 'Bonnie Hunt'): 2,\n",
       " ('Steve Martin', 'Tom Welling'): 2,\n",
       " ('Bonnie Hunt', 'Tom Welling'): 2,\n",
       " ('RenÃ©e Zellweger', 'Ewan McGregor'): 2,\n",
       " ('George Clooney', 'Catherine Zeta-Jones'): 2,\n",
       " ('Steve Martin', 'Eugene Levy'): 2,\n",
       " ('Vin Diesel', 'Karl Urban'): 2,\n",
       " ('Denzel Washington', 'Paula Patton'): 2,\n",
       " ('Robert De Niro', 'Michelle Pfeiffer'): 2,\n",
       " ('Adam Sandler', 'Chris Rock'): 2,\n",
       " ('Jaden Smith', 'Will Smith'): 2,\n",
       " ('Will Ferrell', 'Paul Rudd'): 2,\n",
       " ('Will Ferrell', 'Christina Applegate'): 2,\n",
       " ('Paul Rudd', 'Christina Applegate'): 2,\n",
       " ('Meryl Streep', 'Julia Roberts'): 2,\n",
       " ('Owen Wilson', 'Vince Vaughn'): 2,\n",
       " ('Ioan Gruffudd', 'Jessica Alba'): 2,\n",
       " ('Ioan Gruffudd', 'Chris Evans'): 2,\n",
       " ('Ioan Gruffudd', 'Michael Chiklis'): 2,\n",
       " ('Jessica Alba', 'Chris Evans'): 2,\n",
       " ('Jessica Alba', 'Michael Chiklis'): 2,\n",
       " ('Chris Evans', 'Michael Chiklis'): 2,\n",
       " ('Bruce Willis', 'Kevin Pollak'): 2,\n",
       " ('Joaquin Phoenix', 'Robert Patrick'): 2,\n",
       " ('Daniel Craig', 'Eva Green'): 2,\n",
       " ('Tom Cruise', 'Ving Rhames'): 2,\n",
       " ('Martin Lawrence', 'Nia Long'): 2,\n",
       " ('Adam Campbell', 'Jennifer Coolidge'): 2,\n",
       " ('Tim Allen', 'Spencer Breslin'): 2,\n",
       " ('Matt Damon', 'Julia Stiles'): 2,\n",
       " ('Mike Myers', 'Julie Andrews'): 2,\n",
       " ('Eddie Murphy', 'Julie Andrews'): 2,\n",
       " ('Cameron Diaz', 'Julie Andrews'): 2,\n",
       " ('Milla Jovovich', 'Oded Fehr'): 2,\n",
       " ('Ben Stiller', 'Teri Polo'): 2,\n",
       " ('Teri Polo', 'Robert De Niro'): 2,\n",
       " ('Giovanni Ribisi', 'Angelina Jolie'): 2,\n",
       " ('Michael Moore', 'George W. Bush'): 2,\n",
       " ('Bruce Willis', 'Matthew Perry'): 2,\n",
       " ('Jennifer Garner', 'Jason Bateman'): 2,\n",
       " ('Nicole Kidman', 'Daniel Craig'): 2,\n",
       " ('Chris Pratt', 'Bryce Dallas Howard'): 1,\n",
       " ('Chris Pratt', 'Irrfan Khan'): 1,\n",
       " ('Chris Pratt', \"Vincent D'Onofrio\"): 1,\n",
       " ('Bryce Dallas Howard', 'Irrfan Khan'): 1,\n",
       " ('Bryce Dallas Howard', \"Vincent D'Onofrio\"): 1,\n",
       " ('Irrfan Khan', \"Vincent D'Onofrio\"): 1,\n",
       " ('Tom Hardy', 'Charlize Theron'): 1,\n",
       " ('Tom Hardy', 'Hugh Keays-Byrne'): 1,\n",
       " ('Tom Hardy', 'Nicholas Hoult'): 1,\n",
       " ('Charlize Theron', 'Hugh Keays-Byrne'): 1,\n",
       " ('Charlize Theron', 'Nicholas Hoult'): 1,\n",
       " ('Hugh Keays-Byrne', 'Nicholas Hoult'): 1,\n",
       " ('Theo James', 'Ansel Elgort'): 1,\n",
       " ('Kate Winslet', 'Ansel Elgort'): 1,\n",
       " ('Harrison Ford', 'Mark Hamill'): 1,\n",
       " ('Harrison Ford', 'Carrie Fisher'): 1,\n",
       " ('Harrison Ford', 'Adam Driver'): 1,\n",
       " ('Mark Hamill', 'Carrie Fisher'): 1,\n",
       " ('Mark Hamill', 'Adam Driver'): 1,\n",
       " ('Carrie Fisher', 'Adam Driver'): 1,\n",
       " ('Vin Diesel', 'Jason Statham'): 1,\n",
       " ('Paul Walker', 'Jason Statham'): 1,\n",
       " ('Jason Statham', 'Michelle Rodriguez'): 1,\n",
       " ('Leonardo DiCaprio', 'Will Poulter'): 1,\n",
       " ('Leonardo DiCaprio', 'Domhnall Gleeson'): 1,\n",
       " ('Tom Hardy', 'Will Poulter'): 1,\n",
       " ('Tom Hardy', 'Domhnall Gleeson'): 1,\n",
       " ('Will Poulter', 'Domhnall Gleeson'): 1,\n",
       " ('Arnold Schwarzenegger', 'Jason Clarke'): 1,\n",
       " ('Arnold Schwarzenegger', 'Emilia Clarke'): 1,\n",
       " ('Arnold Schwarzenegger', 'Jai Courtney'): 1,\n",
       " ('Jason Clarke', 'Emilia Clarke'): 1,\n",
       " ('Jason Clarke', 'Jai Courtney'): 1,\n",
       " ('Emilia Clarke', 'Jai Courtney'): 1,\n",
       " ('Matt Damon', 'Jessica Chastain'): 1,\n",
       " ('Matt Damon', 'Kristen Wiig'): 1,\n",
       " ('Matt Damon', 'Jeff Daniels'): 1,\n",
       " ('Jessica Chastain', 'Kristen Wiig'): 1,\n",
       " ('Jessica Chastain', 'Jeff Daniels'): 1,\n",
       " ('Kristen Wiig', 'Jeff Daniels'): 1,\n",
       " ('Sandra Bullock', 'Jon Hamm'): 1,\n",
       " ('Sandra Bullock', 'Michael Keaton'): 1,\n",
       " ('Sandra Bullock', 'Allison Janney'): 1,\n",
       " ('Jon Hamm', 'Michael Keaton'): 1,\n",
       " ('Jon Hamm', 'Allison Janney'): 1,\n",
       " ('Michael Keaton', 'Allison Janney'): 1,\n",
       " ('Amy Poehler', 'Phyllis Smith'): 1,\n",
       " ('Amy Poehler', 'Richard Kind'): 1,\n",
       " ('Amy Poehler', 'Bill Hader'): 1,\n",
       " ('Phyllis Smith', 'Richard Kind'): 1,\n",
       " ('Phyllis Smith', 'Bill Hader'): 1,\n",
       " ('Richard Kind', 'Bill Hader'): 1,\n",
       " ('Daniel Craig', 'Christoph Waltz'): 1,\n",
       " ('Daniel Craig', 'LÃ©a Seydoux'): 1,\n",
       " ('Christoph Waltz', 'LÃ©a Seydoux'): 1,\n",
       " ('Christoph Waltz', 'Ralph Fiennes'): 1,\n",
       " ('LÃ©a Seydoux', 'Ralph Fiennes'): 1,\n",
       " ('Mila Kunis', 'Channing Tatum'): 1,\n",
       " ('Mila Kunis', 'Sean Bean'): 1,\n",
       " ('Mila Kunis', 'Eddie Redmayne'): 1,\n",
       " ('Channing Tatum', 'Sean Bean'): 1,\n",
       " ('Channing Tatum', 'Eddie Redmayne'): 1,\n",
       " ('Sean Bean', 'Eddie Redmayne'): 1,\n",
       " ('Domhnall Gleeson', 'Alicia Vikander'): 1,\n",
       " ('Domhnall Gleeson', 'Oscar Isaac'): 1,\n",
       " ('Domhnall Gleeson', 'Sonoya Mizuno'): 1,\n",
       " ('Alicia Vikander', 'Oscar Isaac'): 1,\n",
       " ('Alicia Vikander', 'Sonoya Mizuno'): 1,\n",
       " ('Oscar Isaac', 'Sonoya Mizuno'): 1,\n",
       " ('Adam Sandler', 'Michelle Monaghan'): 1,\n",
       " ('Adam Sandler', 'Peter Dinklage'): 1,\n",
       " ('Adam Sandler', 'Josh Gad'): 1,\n",
       " ('Michelle Monaghan', 'Peter Dinklage'): 1,\n",
       " ('Michelle Monaghan', 'Josh Gad'): 1,\n",
       " ('Peter Dinklage', 'Josh Gad'): 1,\n",
       " ('Samuel L. Jackson', 'Kurt Russell'): 1,\n",
       " ('Samuel L. Jackson', 'Jennifer Jason Leigh'): 1,\n",
       " ('Samuel L. Jackson', 'Walton Goggins'): 1,\n",
       " ('Kurt Russell', 'Jennifer Jason Leigh'): 1,\n",
       " ('Kurt Russell', 'Walton Goggins'): 1,\n",
       " ('Jennifer Jason Leigh', 'Walton Goggins'): 1,\n",
       " ('Liam Neeson', 'Forest Whitaker'): 1,\n",
       " ('Forest Whitaker', 'Maggie Grace'): 1,\n",
       " ('Forest Whitaker', 'Famke Janssen'): 1,\n",
       " ('Paul Rudd', 'Michael Douglas'): 1,\n",
       " ('Paul Rudd', 'Evangeline Lilly'): 1,\n",
       " ('Paul Rudd', 'Corey Stoll'): 1,\n",
       " ('Michael Douglas', 'Evangeline Lilly'): 1,\n",
       " ('Michael Douglas', 'Corey Stoll'): 1,\n",
       " ('Evangeline Lilly', 'Corey Stoll'): 1,\n",
       " ('Lily James', 'Cate Blanchett'): 1,\n",
       " ('Lily James', 'Richard Madden'): 1,\n",
       " ('Lily James', 'Helena Bonham Carter'): 1,\n",
       " ('Cate Blanchett', 'Richard Madden'): 1,\n",
       " ('Cate Blanchett', 'Helena Bonham Carter'): 1,\n",
       " ('Richard Madden', 'Helena Bonham Carter'): 1,\n",
       " ('Britt Robertson', 'George Clooney'): 1,\n",
       " ('Britt Robertson', 'Raffey Cassidy'): 1,\n",
       " ('Britt Robertson', 'Thomas Robinson'): 1,\n",
       " ('George Clooney', 'Raffey Cassidy'): 1,\n",
       " ('George Clooney', 'Thomas Robinson'): 1,\n",
       " ('Raffey Cassidy', 'Thomas Robinson'): 1,\n",
       " ('Jake Gyllenhaal', 'Rachel McAdams'): 1,\n",
       " ('Jake Gyllenhaal', 'Forest Whitaker'): 1,\n",
       " ('Jake Gyllenhaal', 'Oona Laurence'): 1,\n",
       " ('Rachel McAdams', 'Forest Whitaker'): 1,\n",
       " ('Rachel McAdams', 'Oona Laurence'): 1,\n",
       " ('Forest Whitaker', 'Oona Laurence'): 1,\n",
       " ('Dwayne Johnson', 'Alexandra Daddario'): 1,\n",
       " ('Dwayne Johnson', 'Ioan Gruffudd'): 1,\n",
       " ('Alexandra Daddario', 'Carla Gugino'): 1,\n",
       " ('Alexandra Daddario', 'Ioan Gruffudd'): 1,\n",
       " ('Carla Gugino', 'Ioan Gruffudd'): 1,\n",
       " ('Dakota Johnson', 'Jamie Dornan'): 1,\n",
       " ('Dakota Johnson', 'Jennifer Ehle'): 1,\n",
       " ('Dakota Johnson', 'Eloise Mumford'): 1,\n",
       " ('Jamie Dornan', 'Jennifer Ehle'): 1,\n",
       " ('Jamie Dornan', 'Eloise Mumford'): 1,\n",
       " ('Jennifer Ehle', 'Eloise Mumford'): 1,\n",
       " ('Christian Bale', 'Steve Carell'): 1,\n",
       " ('Christian Bale', 'Ryan Gosling'): 1,\n",
       " ('Christian Bale', 'Brad Pitt'): 1,\n",
       " ('Steve Carell', 'Brad Pitt'): 1,\n",
       " ('Ryan Gosling', 'Brad Pitt'): 1,\n",
       " ('Tom Cruise', 'Rebecca Ferguson'): 1,\n",
       " ('Jeremy Renner', 'Rebecca Ferguson'): 1,\n",
       " ('Simon Pegg', 'Rebecca Ferguson'): 1,\n",
       " ('Mark Wahlberg', 'Amanda Seyfried'): 1,\n",
       " ('Mark Wahlberg', 'Jessica Barth'): 1,\n",
       " ('Seth MacFarlane', 'Amanda Seyfried'): 1,\n",
       " ('Seth MacFarlane', 'Jessica Barth'): 1,\n",
       " ('Amanda Seyfried', 'Jessica Barth'): 1,\n",
       " ('Taron Egerton', 'Colin Firth'): 1,\n",
       " ('Taron Egerton', 'Samuel L. Jackson'): 1,\n",
       " ('Taron Egerton', 'Michael Caine'): 1,\n",
       " ('Colin Firth', 'Samuel L. Jackson'): 1,\n",
       " ('Colin Firth', 'Michael Caine'): 1,\n",
       " ('Samuel L. Jackson', 'Michael Caine'): 1,\n",
       " ('Mark Ruffalo', 'Michael Keaton'): 1,\n",
       " ('Mark Ruffalo', 'Rachel McAdams'): 1,\n",
       " ('Mark Ruffalo', 'Liev Schreiber'): 1,\n",
       " ('Michael Keaton', 'Rachel McAdams'): 1,\n",
       " ('Michael Keaton', 'Liev Schreiber'): 1,\n",
       " ('Rachel McAdams', 'Liev Schreiber'): 1,\n",
       " (\"Dylan O'Brien\", 'Thomas Brodie-Sangster'): 1,\n",
       " (\"Dylan O'Brien\", 'Giancarlo Esposito'): 1,\n",
       " ('Kaya Scodelario', 'Thomas Brodie-Sangster'): 1,\n",
       " ('Kaya Scodelario', 'Giancarlo Esposito'): 1,\n",
       " ('Thomas Brodie-Sangster', 'Giancarlo Esposito'): 1,\n",
       " ('Sharlto Copley', 'Dev Patel'): 1,\n",
       " ('Sharlto Copley', 'Ninja'): 1,\n",
       " ('Sharlto Copley', 'Yolandi Visser'): 1,\n",
       " ('Dev Patel', 'Ninja'): 1,\n",
       " ('Dev Patel', 'Yolandi Visser'): 1,\n",
       " ('Ninja', 'Yolandi Visser'): 1,\n",
       " ('Anna Kendrick', 'Rebel Wilson'): 1,\n",
       " ('Anna Kendrick', 'Hailee Steinfeld'): 1,\n",
       " ('Rebel Wilson', 'Hailee Steinfeld'): 1,\n",
       " ('Rebel Wilson', 'Brittany Snow'): 1,\n",
       " ('Hailee Steinfeld', 'Brittany Snow'): 1,\n",
       " ('Tom Hanks', 'Mark Rylance'): 1,\n",
       " ('Tom Hanks', 'Amy Ryan'): 1,\n",
       " ('Tom Hanks', 'Alan Alda'): 1,\n",
       " ('Mark Rylance', 'Amy Ryan'): 1,\n",
       " ('Mark Rylance', 'Alan Alda'): 1,\n",
       " ('Amy Ryan', 'Alan Alda'): 1,\n",
       " ('Jack Black', 'Dylan Minnette'): 1,\n",
       " ('Jack Black', 'Odeya Rush'): 1,\n",
       " ('Jack Black', 'Amy Ryan'): 1,\n",
       " ('Dylan Minnette', 'Odeya Rush'): 1,\n",
       " ('Dylan Minnette', 'Amy Ryan'): 1,\n",
       " ('Odeya Rush', 'Amy Ryan'): 1,\n",
       " ('Brie Larson', 'Jacob Tremblay'): 1,\n",
       " ('Brie Larson', 'Joan Allen'): 1,\n",
       " ('Brie Larson', 'Sean Bridgers'): 1,\n",
       " ('Jacob Tremblay', 'Joan Allen'): 1,\n",
       " ('Jacob Tremblay', 'Sean Bridgers'): 1,\n",
       " ('Joan Allen', 'Sean Bridgers'): 1,\n",
       " ('Raymond Ochoa', 'Jack Bright'): 1,\n",
       " ('Raymond Ochoa', 'Jeffrey Wright'): 1,\n",
       " ('Raymond Ochoa', 'Frances McDormand'): 1,\n",
       " ('Jack Bright', 'Jeffrey Wright'): 1,\n",
       " ('Jack Bright', 'Frances McDormand'): 1,\n",
       " ('Jeffrey Wright', 'Frances McDormand'): 1,\n",
       " ('Liam Neeson', 'Ed Harris'): 1,\n",
       " ('Liam Neeson', 'Joel Kinnaman'): 1,\n",
       " ('Ed Harris', 'Joel Kinnaman'): 1,\n",
       " ('Ed Harris', 'Boyd Holbrook'): 1,\n",
       " ('Joel Kinnaman', 'Boyd Holbrook'): 1,\n",
       " ('Saoirse Ronan', 'Domhnall Gleeson'): 1,\n",
       " ('Saoirse Ronan', 'Emory Cohen'): 1,\n",
       " ('Saoirse Ronan', 'Emily Bett Rickards'): 1,\n",
       " ('Domhnall Gleeson', 'Emory Cohen'): 1,\n",
       " ('Domhnall Gleeson', 'Emily Bett Rickards'): 1,\n",
       " ('Emory Cohen', 'Emily Bett Rickards'): 1,\n",
       " (\"O'Shea Jackson Jr.\", 'Corey Hawkins'): 1,\n",
       " (\"O'Shea Jackson Jr.\", 'Jason Mitchell'): 1,\n",
       " (\"O'Shea Jackson Jr.\", 'Neil Brown Jr.'): 1,\n",
       " ('Corey Hawkins', 'Jason Mitchell'): 1,\n",
       " ('Corey Hawkins', 'Neil Brown Jr.'): 1,\n",
       " ('Jason Mitchell', 'Neil Brown Jr.'): 1,\n",
       " ('Vin Diesel', 'Rose Leslie'): 1,\n",
       " ('Vin Diesel', 'Michael Caine'): 1,\n",
       " ('Vin Diesel', 'Elijah Wood'): 1,\n",
       " ('Rose Leslie', 'Michael Caine'): 1,\n",
       " ('Rose Leslie', 'Elijah Wood'): 1,\n",
       " ('Michael Caine', 'Elijah Wood'): 1,\n",
       " ('Henry Cavill', 'Armie Hammer'): 1,\n",
       " ('Henry Cavill', 'Alicia Vikander'): 1,\n",
       " ('Henry Cavill', 'Elizabeth Debicki'): 1,\n",
       " ('Armie Hammer', 'Alicia Vikander'): 1,\n",
       " ('Armie Hammer', 'Elizabeth Debicki'): 1,\n",
       " ('Alicia Vikander', 'Elizabeth Debicki'): 1,\n",
       " ('Blake Lively', 'Michiel Huisman'): 1,\n",
       " ('Blake Lively', 'Harrison Ford'): 1,\n",
       " ('Blake Lively', 'Ellen Burstyn'): 1,\n",
       " ('Michiel Huisman', 'Harrison Ford'): 1,\n",
       " ('Michiel Huisman', 'Ellen Burstyn'): 1,\n",
       " ('Harrison Ford', 'Ellen Burstyn'): 1,\n",
       " ('Sharlto Copley', 'Haley Bennett'): 1,\n",
       " ('Sharlto Copley', 'Danila Kozlovskiy'): 1,\n",
       " ('Sharlto Copley', 'Tim Roth'): 1,\n",
       " ('Haley Bennett', 'Danila Kozlovskiy'): 1,\n",
       " ('Haley Bennett', 'Tim Roth'): 1,\n",
       " ('Danila Kozlovskiy', 'Tim Roth'): 1,\n",
       " ('Jim Parsons', 'Rihanna'): 1,\n",
       " ('Jim Parsons', 'Steve Martin'): 1,\n",
       " ('Jim Parsons', 'Jennifer Lopez'): 1,\n",
       " ('Rihanna', 'Steve Martin'): 1,\n",
       " ('Rihanna', 'Jennifer Lopez'): 1,\n",
       " ('Steve Martin', 'Jennifer Lopez'): 1,\n",
       " ('Nat Wolff', 'Cara Delevingne'): 1,\n",
       " ('Nat Wolff', 'Halston Sage'): 1,\n",
       " ('Nat Wolff', 'Justice Smith'): 1,\n",
       " ('Cara Delevingne', 'Halston Sage'): 1,\n",
       " ('Cara Delevingne', 'Justice Smith'): 1,\n",
       " ('Halston Sage', 'Justice Smith'): 1,\n",
       " ('Cate Blanchett', 'Rooney Mara'): 1,\n",
       " ('Cate Blanchett', 'Kyle Chandler'): 1,\n",
       " ('Cate Blanchett', 'Sarah Paulson'): 1,\n",
       " ('Rooney Mara', 'Kyle Chandler'): 1,\n",
       " ('Rooney Mara', 'Sarah Paulson'): 1,\n",
       " ('Kyle Chandler', 'Sarah Paulson'): 1,\n",
       " ('Robert De Niro', 'Anne Hathaway'): 1,\n",
       " ('Robert De Niro', 'Rene Russo'): 1,\n",
       " ('Robert De Niro', 'Anders Holm'): 1,\n",
       " ('Anne Hathaway', 'Rene Russo'): 1,\n",
       " ('Anne Hathaway', 'Anders Holm'): 1,\n",
       " ('Rene Russo', 'Anders Holm'): 1,\n",
       " ('Jason Clarke', 'Jake Gyllenhaal'): 1,\n",
       " ('Jason Clarke', 'Josh Brolin'): 1,\n",
       " ('Jason Clarke', 'John Hawkes'): 1,\n",
       " ('Jake Gyllenhaal', 'Josh Brolin'): 1,\n",
       " ('Jake Gyllenhaal', 'John Hawkes'): 1,\n",
       " ('Josh Brolin', 'John Hawkes'): 1,\n",
       " ('Edgar RamÃ\\xadrez', 'Luke Bracey'): 1,\n",
       " ('Edgar RamÃ\\xadrez', 'Teresa Palmer'): 1,\n",
       " ('Luke Bracey', 'Teresa Palmer'): 1,\n",
       " ('Luke Bracey', 'Delroy Lindo'): 1,\n",
       " ('Teresa Palmer', 'Delroy Lindo'): 1,\n",
       " ('Bradley Cooper', 'Lily James'): 1,\n",
       " ('Bradley Cooper', 'Alicia Vikander'): 1,\n",
       " ('Sienna Miller', 'Lily James'): 1,\n",
       " ('Sienna Miller', 'Alicia Vikander'): 1,\n",
       " ('Lily James', 'Alicia Vikander'): 1,\n",
       " ('Ryan Reynolds', 'Ben Kingsley'): 1,\n",
       " ('Ryan Reynolds', 'Natalie Martinez'): 1,\n",
       " ('Ryan Reynolds', 'Matthew Goode'): 1,\n",
       " ('Ben Kingsley', 'Natalie Martinez'): 1,\n",
       " ('Ben Kingsley', 'Matthew Goode'): 1,\n",
       " ('Natalie Martinez', 'Matthew Goode'): 1,\n",
       " ('Johnny Depp', 'Gwyneth Paltrow'): 1,\n",
       " ('Johnny Depp', 'Ewan McGregor'): 1,\n",
       " ('Gwyneth Paltrow', 'Ewan McGregor'): 1,\n",
       " ('Gwyneth Paltrow', 'Paul Bettany'): 1,\n",
       " ('Ewan McGregor', 'Paul Bettany'): 1,\n",
       " ('Eddie Redmayne', 'Alicia Vikander'): 1,\n",
       " ('Eddie Redmayne', 'Matthias Schoenaerts'): 1,\n",
       " ('Eddie Redmayne', 'Amber Heard'): 1,\n",
       " ('Alicia Vikander', 'Matthias Schoenaerts'): 1,\n",
       " ('Alicia Vikander', 'Amber Heard'): 1,\n",
       " ('Matthias Schoenaerts', 'Amber Heard'): 1,\n",
       " ('Chris Hemsworth', 'Leehom Wang'): 1,\n",
       " ('Chris Hemsworth', 'Tang Wei'): 1,\n",
       " ('Chris Hemsworth', 'Viola Davis'): 1,\n",
       " ('Leehom Wang', 'Tang Wei'): 1,\n",
       " ('Leehom Wang', 'Viola Davis'): 1,\n",
       " ('Tang Wei', 'Viola Davis'): 1,\n",
       " ('Emily Blunt', 'Benicio del Toro'): 1,\n",
       " ('Emily Blunt', 'Josh Brolin'): 1,\n",
       " ('Emily Blunt', 'Victor Garber'): 1,\n",
       " ('Benicio del Toro', 'Josh Brolin'): 1,\n",
       " ('Benicio del Toro', 'Victor Garber'): 1,\n",
       " ('Josh Brolin', 'Victor Garber'): 1,\n",
       " ('Miles Teller', 'Kate Mara'): 1,\n",
       " ('Miles Teller', 'Jamie Bell'): 1,\n",
       " ('Kate Mara', 'Michael B. Jordan'): 1,\n",
       " ('Kate Mara', 'Jamie Bell'): 1,\n",
       " ('Michael B. Jordan', 'Jamie Bell'): 1,\n",
       " ('Melissa McCarthy', 'Jason Statham'): 1,\n",
       " ('Melissa McCarthy', 'Rose Byrne'): 1,\n",
       " ('Melissa McCarthy', 'Miranda Hart'): 1,\n",
       " ('Jason Statham', 'Rose Byrne'): 1,\n",
       " ('Jason Statham', 'Miranda Hart'): 1,\n",
       " ('Rose Byrne', 'Miranda Hart'): 1,\n",
       " ('Will Smith', 'Margot Robbie'): 1,\n",
       " ('Will Smith', 'Rodrigo Santoro'): 1,\n",
       " ('Will Smith', 'Robert Taylor'): 1,\n",
       " ('Margot Robbie', 'Rodrigo Santoro'): 1,\n",
       " ('Margot Robbie', 'Robert Taylor'): 1,\n",
       " ('Rodrigo Santoro', 'Robert Taylor'): 1,\n",
       " ('Rupert Friend', 'Zachary Quinto'): 1,\n",
       " ('Rupert Friend', 'Hannah Ware'): 1,\n",
       " ('Rupert Friend', 'Emilio Rivera'): 1,\n",
       " ('Zachary Quinto', 'Hannah Ware'): 1,\n",
       " ('Zachary Quinto', 'Emilio Rivera'): 1,\n",
       " ('Hannah Ware', 'Emilio Rivera'): 1,\n",
       " ('Chris Hemsworth', 'Benjamin Walker'): 1,\n",
       " ('Chris Hemsworth', 'Cillian Murphy'): 1,\n",
       " ('Chris Hemsworth', 'Brendan Gleeson'): 1,\n",
       " ('Benjamin Walker', 'Cillian Murphy'): 1,\n",
       " ('Benjamin Walker', 'Brendan Gleeson'): 1,\n",
       " ('Cillian Murphy', 'Brendan Gleeson'): 1,\n",
       " ('Michael B. Jordan', 'Sylvester Stallone'): 1,\n",
       " ('Michael B. Jordan', 'Graham McTavish'): 1,\n",
       " ('Michael B. Jordan', 'Tessa Thompson'): 1,\n",
       " ('Sylvester Stallone', 'Graham McTavish'): 1,\n",
       " ('Sylvester Stallone', 'Tessa Thompson'): 1,\n",
       " ('Graham McTavish', 'Tessa Thompson'): 1,\n",
       " ('Amy Schumer', 'Bill Hader'): 1,\n",
       " ('Amy Schumer', 'Brie Larson'): 1,\n",
       " ('Amy Schumer', 'Colin Quinn'): 1,\n",
       " ('Bill Hader', 'Brie Larson'): 1,\n",
       " ('Bill Hader', 'Colin Quinn'): 1,\n",
       " ('Brie Larson', 'Colin Quinn'): 1,\n",
       " ('Helen Mirren', 'Aaron Paul'): 1,\n",
       " ('Helen Mirren', 'Alan Rickman'): 1,\n",
       " ('Helen Mirren', 'Iain Glen'): 1,\n",
       " ('Aaron Paul', 'Alan Rickman'): 1,\n",
       " ('Aaron Paul', 'Iain Glen'): 1,\n",
       " ('Alan Rickman', 'Iain Glen'): 1,\n",
       " ('Tom Hardy', 'Emily Browning'): 1,\n",
       " ('Tom Hardy', 'Christopher Eccleston'): 1,\n",
       " ('Tom Hardy', 'David Thewlis'): 1,\n",
       " ('Emily Browning', 'Christopher Eccleston'): 1,\n",
       " ('Emily Browning', 'David Thewlis'): 1,\n",
       " ('Christopher Eccleston', 'David Thewlis'): 1,\n",
       " ('Levi Miller', 'Garrett Hedlund'): 1,\n",
       " ('Levi Miller', 'Hugh Jackman'): 1,\n",
       " ('Levi Miller', 'Rooney Mara'): 1,\n",
       " ('Garrett Hedlund', 'Hugh Jackman'): 1,\n",
       " ('Garrett Hedlund', 'Rooney Mara'): 1,\n",
       " ('Hugh Jackman', 'Rooney Mara'): 1,\n",
       " ('Noah Schnapp', 'Bill Melendez'): 1,\n",
       " ('Noah Schnapp', 'Venus Schultheis'): 1,\n",
       " ('Noah Schnapp', 'Hadley Belle Miller'): 1,\n",
       " ('Bill Melendez', 'Venus Schultheis'): 1,\n",
       " ('Bill Melendez', 'Hadley Belle Miller'): 1,\n",
       " ('Venus Schultheis', 'Hadley Belle Miller'): 1,\n",
       " ('Will Smith', 'Bitsie Tulloch'): 1,\n",
       " ('Will Smith', 'Gugu Mbatha-Raw'): 1,\n",
       " ('Will Smith', 'Alec Baldwin'): 1,\n",
       " ('Bitsie Tulloch', 'Gugu Mbatha-Raw'): 1,\n",
       " ('Bitsie Tulloch', 'Alec Baldwin'): 1,\n",
       " ('Gugu Mbatha-Raw', 'Alec Baldwin'): 1,\n",
       " ('Joseph Gordon-Levitt', 'Anthony Mackie'): 1,\n",
       " ('Joseph Gordon-Levitt', 'Lizzy Caplan'): 1,\n",
       " ('Seth Rogen', 'Anthony Mackie'): 1,\n",
       " ('Anthony Mackie', 'Lizzy Caplan'): 1,\n",
       " ('Scott Eastwood', 'Britt Robertson'): 1,\n",
       " ('Scott Eastwood', 'Lolita Davidovich'): 1,\n",
       " ('Scott Eastwood', 'Melissa Benoist'): 1,\n",
       " ('Britt Robertson', 'Lolita Davidovich'): 1,\n",
       " ('Britt Robertson', 'Melissa Benoist'): 1,\n",
       " ('Lolita Davidovich', 'Melissa Benoist'): 1,\n",
       " ('Adam Sandler', 'Andy Samberg'): 1,\n",
       " ('Adam Sandler', 'Selena Gomez'): 1,\n",
       " ('Andy Samberg', 'Selena Gomez'): 1,\n",
       " ('Andy Samberg', 'Kevin James'): 1,\n",
       " ('Selena Gomez', 'Kevin James'): 1,\n",
       " ('Steve Martin', 'Diane Keaton'): 1,\n",
       " ('Steve Martin', 'John Goodman'): 1,\n",
       " ('Steve Martin', 'Alan Arkin'): 1,\n",
       " ('Diane Keaton', 'John Goodman'): 1,\n",
       " ('Diane Keaton', 'Alan Arkin'): 1,\n",
       " ('Joseph Gordon-Levitt', 'Ben Kingsley'): 1,\n",
       " ('Joseph Gordon-Levitt', 'Charlotte Le Bon'): 1,\n",
       " ('Joseph Gordon-Levitt', 'Ben Schwartz'): 1,\n",
       " ('Ben Kingsley', 'Charlotte Le Bon'): 1,\n",
       " ('Ben Kingsley', 'Ben Schwartz'): 1,\n",
       " ('Charlotte Le Bon', 'Ben Schwartz'): 1,\n",
       " ('Ed Helms', 'Christina Applegate'): 1,\n",
       " ('Ed Helms', 'Skyler Gisondo'): 1,\n",
       " ('Ed Helms', 'Steele Stebbins'): 1,\n",
       " ('Christina Applegate', 'Skyler Gisondo'): 1,\n",
       " ('Christina Applegate', 'Steele Stebbins'): 1,\n",
       " ('Skyler Gisondo', 'Steele Stebbins'): 1,\n",
       " ('Sam Rockwell', 'Rosemarie DeWitt'): 1,\n",
       " ('Sam Rockwell', 'Saxon Sharbino'): 1,\n",
       " ('Sam Rockwell', 'Kyle Catlett'): 1,\n",
       " ('Rosemarie DeWitt', 'Saxon Sharbino'): 1,\n",
       " ('Rosemarie DeWitt', 'Kyle Catlett'): 1,\n",
       " ('Saxon Sharbino', 'Kyle Catlett'): 1,\n",
       " ('Tom Hardy', 'Gary Oldman'): 1,\n",
       " ('Tom Hardy', 'Noomi Rapace'): 1,\n",
       " ('Tom Hardy', 'Joel Kinnaman'): 1,\n",
       " ('Gary Oldman', 'Noomi Rapace'): 1,\n",
       " ('Noomi Rapace', 'Joel Kinnaman'): 1,\n",
       " ('Jason Bateman', 'Rebecca Hall'): 1,\n",
       " ('Jason Bateman', 'Joel Edgerton'): 1,\n",
       " ('Jason Bateman', 'David Denman'): 1,\n",
       " ('Rebecca Hall', 'Joel Edgerton'): 1,\n",
       " ('Rebecca Hall', 'David Denman'): 1,\n",
       " ('Joel Edgerton', 'David Denman'): 1,\n",
       " ('Will Ferrell', 'Linda Cardellini'): 1,\n",
       " ('Will Ferrell', 'Thomas Haden Church'): 1,\n",
       " ('Mark Wahlberg', 'Linda Cardellini'): 1,\n",
       " ('Mark Wahlberg', 'Thomas Haden Church'): 1,\n",
       " ('Linda Cardellini', 'Thomas Haden Church'): 1,\n",
       " ('Jeff Bridges', 'Rachel McAdams'): 1,\n",
       " ('Jeff Bridges', 'Paul Rudd'): 1,\n",
       " ('Jeff Bridges', 'Marion Cotillard'): 1,\n",
       " ('Rachel McAdams', 'Paul Rudd'): 1,\n",
       " ('Rachel McAdams', 'Marion Cotillard'): 1,\n",
       " ('Paul Rudd', 'Marion Cotillard'): 1,\n",
       " ('Kate Winslet', 'Liam Hemsworth'): 1,\n",
       " ('Kate Winslet', 'Caroline Goodall'): 1,\n",
       " ('Kate Winslet', 'Judy Davis'): 1,\n",
       " ('Liam Hemsworth', 'Caroline Goodall'): 1,\n",
       " ('Liam Hemsworth', 'Judy Davis'): 1,\n",
       " ('Caroline Goodall', 'Judy Davis'): 1,\n",
       " ('Mae Whitman', 'Robbie Amell'): 1,\n",
       " ('Mae Whitman', 'Bella Thorne'): 1,\n",
       " ('Mae Whitman', 'Bianca A. Santos'): 1,\n",
       " ('Robbie Amell', 'Bella Thorne'): 1,\n",
       " ('Robbie Amell', 'Bianca A. Santos'): 1,\n",
       " ('Bella Thorne', 'Bianca A. Santos'): 1,\n",
       " ('Shannyn Sossamon', 'James Ransone'): 1,\n",
       " ('Shannyn Sossamon', 'Tate Ellington'): 1,\n",
       " ('Shannyn Sossamon', 'Nicholas King'): 1,\n",
       " ('James Ransone', 'Tate Ellington'): 1,\n",
       " ('James Ransone', 'Nicholas King'): 1,\n",
       " ('Tate Ellington', 'Nicholas King'): 1,\n",
       " ('Kevin James', 'Eduardo VerÃ¡stegui'): 1,\n",
       " ('Kevin James', 'Daniella Alonso'): 1,\n",
       " ('Raini Rodriguez', 'Eduardo VerÃ¡stegui'): 1,\n",
       " ('Raini Rodriguez', 'Daniella Alonso'): 1,\n",
       " ('Eduardo VerÃ¡stegui', 'Daniella Alonso'): 1,\n",
       " ('Jeremy Piven', 'Adrian Grenier'): 1,\n",
       " ('Jeremy Piven', 'Jerry Ferrara'): 1,\n",
       " ('Jeremy Piven', 'Kevin Connolly'): 1,\n",
       " ('Adrian Grenier', 'Jerry Ferrara'): 1,\n",
       " ('Adrian Grenier', 'Kevin Connolly'): 1,\n",
       " ('Jerry Ferrara', 'Kevin Connolly'): 1,\n",
       " ('Kevin Hart', 'Josh Gad'): 1,\n",
       " ('Kevin Hart', 'Kaley Cuoco'): 1,\n",
       " ('Kevin Hart', 'Affion Crockett'): 1,\n",
       " ('Josh Gad', 'Kaley Cuoco'): 1,\n",
       " ('Josh Gad', 'Affion Crockett'): 1,\n",
       " ('Kaley Cuoco', 'Affion Crockett'): 1,\n",
       " ('Olivia DeJonge', 'Ed Oxenbould'): 1,\n",
       " ('Olivia DeJonge', 'Kathryn Hahn'): 1,\n",
       " ('Olivia DeJonge', 'Benjamin Kanes'): 1,\n",
       " ('Ed Oxenbould', 'Kathryn Hahn'): 1,\n",
       " ('Ed Oxenbould', 'Benjamin Kanes'): 1,\n",
       " ('Kathryn Hahn', 'Benjamin Kanes'): 1,\n",
       " ('Johnny Depp', 'Joel Edgerton'): 1,\n",
       " ('Johnny Depp', 'Benedict Cumberbatch'): 1,\n",
       " ('Johnny Depp', 'Dakota Johnson'): 1,\n",
       " ('Joel Edgerton', 'Benedict Cumberbatch'): 1,\n",
       " ('Joel Edgerton', 'Dakota Johnson'): 1,\n",
       " ('Benedict Cumberbatch', 'Dakota Johnson'): 1,\n",
       " ('Adam Scott', 'Toni Collette'): 1,\n",
       " ('Adam Scott', 'Allison Tolman'): 1,\n",
       " ('Adam Scott', 'David Koechner'): 1,\n",
       " ('Toni Collette', 'Allison Tolman'): 1,\n",
       " ('Toni Collette', 'David Koechner'): 1,\n",
       " ('Allison Tolman', 'David Koechner'): 1,\n",
       " ('Owen Wilson', 'Lake Bell'): 1,\n",
       " ('Owen Wilson', 'Pierce Brosnan'): 1,\n",
       " ('Owen Wilson', 'Sterling Jerins'): 1,\n",
       " ('Lake Bell', 'Pierce Brosnan'): 1,\n",
       " ('Lake Bell', 'Sterling Jerins'): 1,\n",
       " ('Pierce Brosnan', 'Sterling Jerins'): 1,\n",
       " ('Helen Mirren', 'Ryan Reynolds'): 1,\n",
       " ('Helen Mirren', 'Tatiana Maslany'): 1,\n",
       " ('Helen Mirren', 'Katie Holmes'): 1,\n",
       " ('Ryan Reynolds', 'Tatiana Maslany'): 1,\n",
       " ('Ryan Reynolds', 'Katie Holmes'): 1,\n",
       " ('Tatiana Maslany', 'Katie Holmes'): 1,\n",
       " ('Tina Fey', 'John Leguizamo'): 1,\n",
       " ('Tina Fey', 'Ike Barinholtz'): 1,\n",
       " ('Amy Poehler', 'John Leguizamo'): 1,\n",
       " ('Amy Poehler', 'Ike Barinholtz'): 1,\n",
       " ('John Leguizamo', 'Ike Barinholtz'): 1,\n",
       " ('Jonny Weston', 'Virginia Gardner'): 1,\n",
       " ('Jonny Weston', \"Sofia Black-D'Elia\"): 1,\n",
       " ('Jonny Weston', 'Sam Lerner'): 1,\n",
       " ('Virginia Gardner', \"Sofia Black-D'Elia\"): 1,\n",
       " ('Virginia Gardner', 'Sam Lerner'): 1,\n",
       " (\"Sofia Black-D'Elia\", 'Sam Lerner'): 1,\n",
       " ('Ed Skrein', 'Ray Stevenson'): 1,\n",
       " ('Ed Skrein', 'Loan Chabanol'): 1,\n",
       " ('Ed Skrein', 'Gabriella Wright'): 1,\n",
       " ('Ray Stevenson', 'Loan Chabanol'): 1,\n",
       " ('Ray Stevenson', 'Gabriella Wright'): 1,\n",
       " ('Loan Chabanol', 'Gabriella Wright'): 1,\n",
       " ('Mia Wasikowska', 'Jessica Chastain'): 1,\n",
       " ('Mia Wasikowska', 'Tom Hiddleston'): 1,\n",
       " ('Mia Wasikowska', 'Charlie Hunnam'): 1,\n",
       " ('Jessica Chastain', 'Tom Hiddleston'): 1,\n",
       " ('Jessica Chastain', 'Charlie Hunnam'): 1,\n",
       " ('Tom Hiddleston', 'Charlie Hunnam'): 1,\n",
       " ('Channing Tatum', 'Matt Bomer'): 1,\n",
       " ('Channing Tatum', 'Joe Manganiello'): 1,\n",
       " ('Channing Tatum', 'Kevin Nash'): 1,\n",
       " ('Matt Bomer', 'Joe Manganiello'): 1,\n",
       " ('Matt Bomer', 'Kevin Nash'): 1,\n",
       " ('Joe Manganiello', 'Kevin Nash'): 1,\n",
       " ('Chris J. Murray', 'Brit Shaw'): 1,\n",
       " ('Chris J. Murray', 'Ivy George'): 1,\n",
       " ('Chris J. Murray', 'Lauren Frandsen'): 1,\n",
       " ('Brit Shaw', 'Ivy George'): 1,\n",
       " ('Brit Shaw', 'Lauren Frandsen'): 1,\n",
       " ('Ivy George', 'Lauren Frandsen'): 1,\n",
       " ('Bryan Cranston', 'Diane Lane'): 1,\n",
       " ('Bryan Cranston', 'Helen Mirren'): 1,\n",
       " ('Bryan Cranston', 'Elle Fanning'): 1,\n",
       " ('Diane Lane', 'Helen Mirren'): 1,\n",
       " ('Diane Lane', 'Elle Fanning'): 1,\n",
       " ('Helen Mirren', 'Elle Fanning'): 1,\n",
       " ('Chiwetel Ejiofor', 'Nicole Kidman'): 1,\n",
       " ('Chiwetel Ejiofor', 'Julia Roberts'): 1,\n",
       " ('Chiwetel Ejiofor', 'Dean Norris'): 1,\n",
       " ('Nicole Kidman', 'Julia Roberts'): 1,\n",
       " ('Nicole Kidman', 'Dean Norris'): 1,\n",
       " ('Julia Roberts', 'Dean Norris'): 1,\n",
       " ('Thomas Haden Church', 'Josh Wiggins'): 1,\n",
       " ('Thomas Haden Church', 'Lauren Graham'): 1,\n",
       " ('Thomas Haden Church', 'Robbie Amell'): 1,\n",
       " ('Josh Wiggins', 'Lauren Graham'): 1,\n",
       " ('Josh Wiggins', 'Robbie Amell'): 1,\n",
       " ('Lauren Graham', 'Robbie Amell'): 1,\n",
       " ('Sean Penn', 'Jasmine Trinca'): 1,\n",
       " ('Sean Penn', 'Javier Bardem'): 1,\n",
       " ('Sean Penn', 'Ray Winstone'): 1,\n",
       " ('Jasmine Trinca', 'Javier Bardem'): 1,\n",
       " ('Jasmine Trinca', 'Ray Winstone'): 1,\n",
       " ('Javier Bardem', 'Ray Winstone'): 1,\n",
       " ('Reese Witherspoon', 'SofÃ\\xada Vergara'): 1,\n",
       " ('Reese Witherspoon', 'Michael Mosley'): 1,\n",
       " ('Reese Witherspoon', 'John Carroll Lynch'): 1,\n",
       " ('SofÃ\\xada Vergara', 'Michael Mosley'): 1,\n",
       " ('SofÃ\\xada Vergara', 'John Carroll Lynch'): 1,\n",
       " ('Michael Mosley', 'John Carroll Lynch'): 1,\n",
       " ('Dermot Mulroney', 'Stefanie Scott'): 1,\n",
       " ('Dermot Mulroney', 'Lin Shaye'): 1,\n",
       " ('Dermot Mulroney', 'Leigh Whannell'): 1,\n",
       " ('Stefanie Scott', 'Lin Shaye'): 1,\n",
       " ('Stefanie Scott', 'Leigh Whannell'): 1,\n",
       " ('Lin Shaye', 'Leigh Whannell'): 1,\n",
       " ('Maggie Smith', 'Alex Jennings'): 1,\n",
       " ('Maggie Smith', 'Frances de la Tour'): 1,\n",
       " ('Maggie Smith', 'Gwen Taylor'): 1,\n",
       " ('Alex Jennings', 'Frances de la Tour'): 1,\n",
       " ('Alex Jennings', 'Gwen Taylor'): 1,\n",
       " ('Frances de la Tour', 'Gwen Taylor'): 1,\n",
       " ('James McAvoy', 'Daniel Radcliffe'): 1,\n",
       " ('James McAvoy', 'Jessica Brown Findlay'): 1,\n",
       " ...}"
      ]
     },
     "execution_count": 116,
     "metadata": {},
     "output_type": "execute_result"
    }
   ],
   "source": [
    "#Declare dictionary to store all actors pair companies and amount of their joint movies\n",
    "actor_pair_movies={}\n",
    "      \n",
    "#go through all rows of dataset \n",
    "for i in data.index:\n",
    "    #apply functions to cast column: split into list of actors and \n",
    "    #update the dictionary with list of actors\n",
    "    add_actor_pair_dictionary(actor_pair_movies,split_string_to_list(data.cast[i]))\n",
    "    \n",
    "\n",
    "\n",
    "sorted_x = dict(sorted(actor_pair_movies.items(), key=lambda item: item[1], reverse= True))\n",
    "sorted_x\n",
    "\n",
    "                    \n",
    "        "
   ]
  },
  {
   "cell_type": "markdown",
   "metadata": {
    "colab_type": "text",
    "id": "U0nONFnGVqAX"
   },
   "source": [
    "# Submission"
   ]
  },
  {
   "cell_type": "code",
   "execution_count": 65,
   "metadata": {
    "colab": {},
    "colab_type": "code",
    "id": "IfcaRO9-VqAX",
    "outputId": "0f132912-32bb-4196-c98c-abfbc4ad5a5f"
   },
   "outputs": [
    {
     "data": {
      "text/plain": [
       "{'1': 'Pirates of the Caribbean: On Stranger Tides',\n",
       " '2': 'Gods and Generals',\n",
       " '3': 'Winnie the Pooh',\n",
       " '4': 109.6585494970884,\n",
       " '5': 107.0,\n",
       " '6': 'Avatar',\n",
       " '7': 'The Lone Ranger',\n",
       " '8': 1478,\n",
       " '9': 'The Dark Knight',\n",
       " '10': 'Mars Needs Moms',\n",
       " '11': 'Drama',\n",
       " '12': 'Drama',\n",
       " '13': 'Peter Jackson',\n",
       " '14': 'Robert Rodriguez',\n",
       " '15': 'Chris Hemsworth',\n",
       " '16': 'Matt Damon',\n",
       " '17': 'Action',\n",
       " '18': 'K-19: The Widowmaker',\n",
       " '19': 2015,\n",
       " '20': 2014,\n",
       " '21': 'September',\n",
       " '22': 450,\n",
       " '23': 'Peter Jackson',\n",
       " '24': 'Four By Two Productions',\n",
       " '25': 'Midnight Picture Show',\n",
       " '26': ('Inside Out', 'The Dark Knight', '12 Years a Slave'),\n",
       " '27': ('Daniel Radcliffe', 'Rupert Grint')}"
      ]
     },
     "execution_count": 65,
     "metadata": {},
     "output_type": "execute_result"
    }
   ],
   "source": [
    "# в конце можно посмотреть свои ответы к каждому вопросу\n",
    "answers"
   ]
  },
  {
   "cell_type": "code",
   "execution_count": 20,
   "metadata": {
    "colab": {},
    "colab_type": "code",
    "id": "SiRmHPl8VqAd"
   },
   "outputs": [
    {
     "data": {
      "text/plain": [
       "27"
      ]
     },
     "execution_count": 20,
     "metadata": {},
     "output_type": "execute_result"
    }
   ],
   "source": [
    "# и убедиться что ни чего не пропустил)\n",
    "len(answers)"
   ]
  },
  {
   "cell_type": "code",
   "execution_count": null,
   "metadata": {
    "colab": {},
    "colab_type": "code",
    "id": "uCfuTkRbVqAg"
   },
   "outputs": [],
   "source": []
  },
  {
   "cell_type": "code",
   "execution_count": null,
   "metadata": {
    "colab": {},
    "colab_type": "code",
    "id": "Vwx3NrkSVqAl"
   },
   "outputs": [],
   "source": []
  }
 ],
 "metadata": {
  "colab": {
   "name": "Copy of [SF-DST] Movies IMBD v4.1 TEMPLATE.ipynb",
   "provenance": []
  },
  "kernelspec": {
   "display_name": "Python 3",
   "language": "python",
   "name": "python3"
  },
  "language_info": {
   "codemirror_mode": {
    "name": "ipython",
    "version": 3
   },
   "file_extension": ".py",
   "mimetype": "text/x-python",
   "name": "python",
   "nbconvert_exporter": "python",
   "pygments_lexer": "ipython3",
   "version": "3.8.5"
  }
 },
 "nbformat": 4,
 "nbformat_minor": 1
}
